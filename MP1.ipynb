{
  "nbformat": 4,
  "nbformat_minor": 0,
  "metadata": {
    "colab": {
      "name": "MP1.ipynb",
      "version": "0.3.2",
      "provenance": []
    },
    "kernelspec": {
      "display_name": "Python 3",
      "language": "python",
      "name": "python3"
    }
  },
  "cells": [
    {
      "metadata": {
        "id": "eRuB92iw6n-Y",
        "colab_type": "text"
      },
      "cell_type": "markdown",
      "source": [
        "# Project: Image Classification and Regression\n",
        "1. [Simple Classification](#task1)<br>\n",
        "2. [Visualization of the Solution](#task2)<br>\n",
        "3. [A more Difficult Classification Problem](#task3)<br>\n",
        "4. [A Regression Problem](#task4)<br>\n",
        "5. [Image Denoising](#task5)<br>"
      ]
    },
    {
      "metadata": {
        "id": "IsEQgYGC6n-Z",
        "colab_type": "code",
        "colab": {}
      },
      "cell_type": "code",
      "source": [
        "import matplotlib.pyplot as plt\n",
        "%matplotlib inline\n",
        "import numpy as np\n",
        "\n",
        "# On some implementations of matplotlib, you may need to change this value\n",
        "IMAGE_SIZE = 72\n",
        "\n",
        "def generate_a_drawing(figsize, U, V, noise=0.0):\n",
        "    fig = plt.figure(figsize=(figsize,figsize))\n",
        "    ax = plt.subplot(111)\n",
        "    plt.axis('Off')\n",
        "    ax.set_xlim(0,figsize)\n",
        "    ax.set_ylim(0,figsize)\n",
        "    ax.fill(U, V, \"k\")\n",
        "    fig.canvas.draw()\n",
        "    imdata = np.frombuffer(fig.canvas.tostring_rgb(), dtype=np.uint8)[::3].astype(np.float32)\n",
        "    imdata = imdata + noise * np.random.random(imdata.size)\n",
        "    plt.close(fig)\n",
        "    return imdata\n",
        "\n",
        "def generate_a_rectangle(noise=0.0, free_location=False):\n",
        "    figsize = 1.0    \n",
        "    U = np.zeros(4)\n",
        "    V = np.zeros(4)\n",
        "    if free_location:\n",
        "        corners = np.random.random(4)\n",
        "        top = max(corners[0], corners[1])\n",
        "        bottom = min(corners[0], corners[1])\n",
        "        left = min(corners[2], corners[3])\n",
        "        right = max(corners[2], corners[3])\n",
        "    else:\n",
        "        side = (0.3 + 0.7 * np.random.random()) * figsize\n",
        "        top = figsize/2 + side/2\n",
        "        bottom = figsize/2 - side/2\n",
        "        left = bottom\n",
        "        right = top\n",
        "    U[0] = U[1] = top\n",
        "    U[2] = U[3] = bottom\n",
        "    V[0] = V[3] = left\n",
        "    V[1] = V[2] = right\n",
        "    return generate_a_drawing(figsize, U, V, noise)\n",
        "\n",
        "\n",
        "def generate_a_disk(noise=0.0, free_location=False):\n",
        "    figsize = 1.0\n",
        "    if free_location:\n",
        "        center = np.random.random(2)\n",
        "    else:\n",
        "        center = (figsize/2, figsize/2)\n",
        "    radius = (0.3 + 0.7 * np.random.random()) * figsize/2\n",
        "    N = 50\n",
        "    U = np.zeros(N)\n",
        "    V = np.zeros(N)\n",
        "    i = 0\n",
        "    for t in np.linspace(0, 2*np.pi, N):\n",
        "        U[i] = center[0] + np.cos(t) * radius\n",
        "        V[i] = center[1] + np.sin(t) * radius\n",
        "        i = i + 1\n",
        "    return generate_a_drawing(figsize, U, V, noise)\n",
        "\n",
        "def generate_a_triangle(noise=0.0, free_location=False):\n",
        "    figsize = 1.0\n",
        "    if free_location:\n",
        "        U = np.random.random(3)\n",
        "        V = np.random.random(3)\n",
        "        args = np.argsort(U)\n",
        "        U = U[args]\n",
        "        V = V[args]\n",
        "    else:\n",
        "        size = (0.3 + 0.7 * np.random.random())*figsize/2\n",
        "        middle = figsize/2\n",
        "        U = (middle, middle+size, middle-size)\n",
        "        V = (middle+size, middle-size, middle-size)\n",
        "    imdata = generate_a_drawing(figsize, U, V, noise)\n",
        "    return [imdata, [U[0], V[0], U[1], V[1], U[2], V[2]]]\n",
        "\n",
        "def generate_dataset_classification(nb_samples, noise=0.0, free_location=False):\n",
        "    # Getting im_size:\n",
        "    im_size = generate_a_rectangle().shape[0]\n",
        "    X = np.zeros([nb_samples,im_size])\n",
        "    Y = np.zeros(nb_samples)\n",
        "    print('Creating data:')\n",
        "    for i in range(nb_samples):\n",
        "        if i % 100 == 0:\n",
        "            print(i)\n",
        "        category = np.random.randint(3)\n",
        "        if category == 0:\n",
        "            X[i] = generate_a_rectangle(noise, free_location)\n",
        "        elif category == 1: \n",
        "            X[i] = generate_a_disk(noise, free_location)\n",
        "        else:\n",
        "            [X[i], V] = generate_a_triangle(noise, free_location)\n",
        "        Y[i] = category\n",
        "    X = (X + noise) / (255 + 2 * noise)\n",
        "    return [X, Y]\n",
        "\n",
        "def generate_test_set_classification():\n",
        "    np.random.seed(42)\n",
        "    [X_test, Y_test] = generate_dataset_classification(300, 20, True)\n",
        "    Y_test = np_utils.to_categorical(Y_test, 3) \n",
        "    return [X_test, Y_test]\n",
        "\n",
        "def generate_dataset_regression(nb_samples, noise=0.0):\n",
        "    # Getting im_size:\n",
        "    im_size = generate_a_triangle()[0].shape[0]\n",
        "    X = np.zeros([nb_samples,im_size])\n",
        "    Y = np.zeros([nb_samples, 6])\n",
        "    print('Creating data:')\n",
        "    for i in range(nb_samples):\n",
        "        if i % 100 == 0:\n",
        "            print(i)\n",
        "        [X[i], Y[i]] = generate_a_triangle(noise, True)\n",
        "    X = (X + noise) / (255 + 2 * noise)\n",
        "    return [X, Y]\n",
        "\n",
        "import matplotlib.patches as patches\n",
        "\n",
        "def visualize_prediction(x, y):\n",
        "    fig, ax = plt.subplots(figsize=(5, 5))\n",
        "    I = x.reshape((IMAGE_SIZE,IMAGE_SIZE))\n",
        "    ax.imshow(I, extent=[-0.15,1.15,-0.15,1.15],cmap='gray')\n",
        "    ax.set_xlim([0,1])\n",
        "    ax.set_ylim([0,1])\n",
        "\n",
        "    xy = y.reshape(3,2)\n",
        "    tri = patches.Polygon(xy, closed=True, fill = False, edgecolor = 'r', linewidth = 5, alpha = 0.5)\n",
        "    ax.add_patch(tri)\n",
        "\n",
        "    plt.show()\n",
        "\n",
        "def generate_test_set_regression():\n",
        "    np.random.seed(42)\n",
        "    [X_test, Y_test] = generate_dataset_regression(300, 20)\n",
        "    return [X_test, Y_test]"
      ],
      "execution_count": 0,
      "outputs": []
    },
    {
      "metadata": {
        "id": "Ghcuq_rSQ5fg",
        "colab_type": "code",
        "outputId": "7035e7d9-11d5-4a7b-afa3-b53963cdefdf",
        "colab": {
          "base_uri": "https://localhost:8080/",
          "height": 34
        }
      },
      "cell_type": "code",
      "source": [
        "from keras.layers import Input, Conv2D, MaxPooling2D, Flatten, Dropout, UpSampling2D\n",
        "import keras\n",
        "from keras.models import Sequential, Model\n",
        "from keras.layers import Dense\n",
        "from keras.utils import np_utils"
      ],
      "execution_count": 0,
      "outputs": [
        {
          "output_type": "stream",
          "text": [
            "Using TensorFlow backend.\n"
          ],
          "name": "stderr"
        }
      ]
    },
    {
      "metadata": {
        "id": "Om1oPuMP6n-g",
        "colab_type": "text"
      },
      "cell_type": "markdown",
      "source": [
        "<a id='task1'></a>\n",
        "## 1 Simple Classification"
      ]
    },
    {
      "metadata": {
        "id": "2P8r2KzG6n-i",
        "colab_type": "code",
        "outputId": "310115bc-a6aa-4134-d29a-72b036f74916",
        "colab": {
          "base_uri": "https://localhost:8080/",
          "height": 85
        }
      },
      "cell_type": "code",
      "source": [
        "[X_train, Y_train] = generate_dataset_classification(300, 20)"
      ],
      "execution_count": 0,
      "outputs": [
        {
          "output_type": "stream",
          "text": [
            "Creating data:\n",
            "0\n",
            "100\n",
            "200\n"
          ],
          "name": "stdout"
        }
      ]
    },
    {
      "metadata": {
        "id": "xIUkxVZU6n-p",
        "colab_type": "text"
      },
      "cell_type": "markdown",
      "source": [
        "### linear classifier using stochastic gradient descent optimizer"
      ]
    },
    {
      "metadata": {
        "id": "4aIBk1ug6n-q",
        "colab_type": "text"
      },
      "cell_type": "markdown",
      "source": [
        "I set the learning rate to be 0.001, and momentum to be 0.9. The optimizer converges as expected."
      ]
    },
    {
      "metadata": {
        "id": "uOK9ndOa6n-q",
        "colab_type": "code",
        "outputId": "e2f10511-1bd4-444a-afb5-b079258d3dee",
        "colab": {
          "base_uri": "https://localhost:8080/",
          "height": 1734
        }
      },
      "cell_type": "code",
      "source": [
        "model = Sequential()\n",
        "model.add(Dense(3, activation='softmax', input_dim=72*72))\n",
        "model.compile(loss='categorical_crossentropy',\n",
        "              optimizer=keras.optimizers.SGD(lr=0.001, momentum=0.9, nesterov=True),\n",
        "              metrics=['accuracy'])\n",
        "model.fit(X_train, np_utils.to_categorical(Y_train, 3), epochs=50, batch_size=64)\n"
      ],
      "execution_count": 0,
      "outputs": [
        {
          "output_type": "stream",
          "text": [
            "Epoch 1/50\n",
            "300/300 [==============================] - 1s 2ms/step - loss: 1.1250 - acc: 0.4133\n",
            "Epoch 2/50\n",
            "300/300 [==============================] - 0s 85us/step - loss: 0.8738 - acc: 0.6500\n",
            "Epoch 3/50\n",
            "300/300 [==============================] - 0s 81us/step - loss: 0.7175 - acc: 0.7133\n",
            "Epoch 4/50\n",
            "300/300 [==============================] - 0s 71us/step - loss: 0.5918 - acc: 0.7467\n",
            "Epoch 5/50\n",
            "300/300 [==============================] - 0s 76us/step - loss: 0.4897 - acc: 0.8433\n",
            "Epoch 6/50\n",
            "300/300 [==============================] - 0s 79us/step - loss: 0.4457 - acc: 0.8467\n",
            "Epoch 7/50\n",
            "300/300 [==============================] - 0s 76us/step - loss: 0.3940 - acc: 0.9100\n",
            "Epoch 8/50\n",
            "300/300 [==============================] - 0s 81us/step - loss: 0.3928 - acc: 0.8300\n",
            "Epoch 9/50\n",
            "300/300 [==============================] - 0s 88us/step - loss: 0.3456 - acc: 0.9000\n",
            "Epoch 10/50\n",
            "300/300 [==============================] - 0s 81us/step - loss: 0.2996 - acc: 0.9433\n",
            "Epoch 11/50\n",
            "300/300 [==============================] - 0s 82us/step - loss: 0.2877 - acc: 0.9267\n",
            "Epoch 12/50\n",
            "300/300 [==============================] - 0s 87us/step - loss: 0.2752 - acc: 0.9333\n",
            "Epoch 13/50\n",
            "300/300 [==============================] - 0s 83us/step - loss: 0.2551 - acc: 0.9467\n",
            "Epoch 14/50\n",
            "300/300 [==============================] - 0s 81us/step - loss: 0.2426 - acc: 0.9700\n",
            "Epoch 15/50\n",
            "300/300 [==============================] - 0s 74us/step - loss: 0.2281 - acc: 0.9633\n",
            "Epoch 16/50\n",
            "300/300 [==============================] - 0s 77us/step - loss: 0.2213 - acc: 0.9600\n",
            "Epoch 17/50\n",
            "300/300 [==============================] - 0s 69us/step - loss: 0.2206 - acc: 0.9700\n",
            "Epoch 18/50\n",
            "300/300 [==============================] - 0s 74us/step - loss: 0.2055 - acc: 0.9633\n",
            "Epoch 19/50\n",
            "300/300 [==============================] - 0s 76us/step - loss: 0.2029 - acc: 0.9667\n",
            "Epoch 20/50\n",
            "300/300 [==============================] - 0s 77us/step - loss: 0.1882 - acc: 0.9733\n",
            "Epoch 21/50\n",
            "300/300 [==============================] - 0s 79us/step - loss: 0.1815 - acc: 0.9700\n",
            "Epoch 22/50\n",
            "300/300 [==============================] - 0s 71us/step - loss: 0.1759 - acc: 0.9733\n",
            "Epoch 23/50\n",
            "300/300 [==============================] - 0s 75us/step - loss: 0.1712 - acc: 0.9667\n",
            "Epoch 24/50\n",
            "300/300 [==============================] - 0s 86us/step - loss: 0.1660 - acc: 0.9767\n",
            "Epoch 25/50\n",
            "300/300 [==============================] - 0s 70us/step - loss: 0.1590 - acc: 0.9667\n",
            "Epoch 26/50\n",
            "300/300 [==============================] - 0s 83us/step - loss: 0.1578 - acc: 0.9767\n",
            "Epoch 27/50\n",
            "300/300 [==============================] - 0s 132us/step - loss: 0.1541 - acc: 0.9800\n",
            "Epoch 28/50\n",
            "300/300 [==============================] - 0s 105us/step - loss: 0.1534 - acc: 0.9767\n",
            "Epoch 29/50\n",
            "300/300 [==============================] - 0s 93us/step - loss: 0.1478 - acc: 0.9767\n",
            "Epoch 30/50\n",
            "300/300 [==============================] - 0s 91us/step - loss: 0.1445 - acc: 0.9933\n",
            "Epoch 31/50\n",
            "300/300 [==============================] - 0s 83us/step - loss: 0.1451 - acc: 0.9733\n",
            "Epoch 32/50\n",
            "300/300 [==============================] - 0s 82us/step - loss: 0.1364 - acc: 0.9800\n",
            "Epoch 33/50\n",
            "300/300 [==============================] - 0s 75us/step - loss: 0.1322 - acc: 0.9933\n",
            "Epoch 34/50\n",
            "300/300 [==============================] - 0s 74us/step - loss: 0.1336 - acc: 0.9867\n",
            "Epoch 35/50\n",
            "300/300 [==============================] - 0s 102us/step - loss: 0.1267 - acc: 0.9900\n",
            "Epoch 36/50\n",
            "300/300 [==============================] - 0s 101us/step - loss: 0.1273 - acc: 0.9833\n",
            "Epoch 37/50\n",
            "300/300 [==============================] - 0s 93us/step - loss: 0.1231 - acc: 0.9933\n",
            "Epoch 38/50\n",
            "300/300 [==============================] - 0s 83us/step - loss: 0.1220 - acc: 0.9800\n",
            "Epoch 39/50\n",
            "300/300 [==============================] - 0s 90us/step - loss: 0.1170 - acc: 0.9833\n",
            "Epoch 40/50\n",
            "300/300 [==============================] - 0s 98us/step - loss: 0.1129 - acc: 0.9933\n",
            "Epoch 41/50\n",
            "300/300 [==============================] - 0s 85us/step - loss: 0.1133 - acc: 0.9900\n",
            "Epoch 42/50\n",
            "300/300 [==============================] - 0s 86us/step - loss: 0.1126 - acc: 0.9900\n",
            "Epoch 43/50\n",
            "300/300 [==============================] - 0s 108us/step - loss: 0.1065 - acc: 0.9967\n",
            "Epoch 44/50\n",
            "300/300 [==============================] - 0s 92us/step - loss: 0.1068 - acc: 0.9900\n",
            "Epoch 45/50\n",
            "300/300 [==============================] - 0s 95us/step - loss: 0.1057 - acc: 0.9933\n",
            "Epoch 46/50\n",
            "300/300 [==============================] - 0s 93us/step - loss: 0.1016 - acc: 0.9967\n",
            "Epoch 47/50\n",
            "300/300 [==============================] - 0s 94us/step - loss: 0.1011 - acc: 0.9933\n",
            "Epoch 48/50\n",
            "300/300 [==============================] - 0s 94us/step - loss: 0.1037 - acc: 0.9900\n",
            "Epoch 49/50\n",
            "300/300 [==============================] - 0s 91us/step - loss: 0.0978 - acc: 0.9933\n",
            "Epoch 50/50\n",
            "300/300 [==============================] - 0s 89us/step - loss: 0.1010 - acc: 0.9900\n"
          ],
          "name": "stdout"
        },
        {
          "output_type": "execute_result",
          "data": {
            "text/plain": [
              "<keras.callbacks.History at 0x7f512ea45e10>"
            ]
          },
          "metadata": {
            "tags": []
          },
          "execution_count": 4
        }
      ]
    },
    {
      "metadata": {
        "id": "GI9EEuRq6n-w",
        "colab_type": "text"
      },
      "cell_type": "markdown",
      "source": [
        "Check the classifier using a disk example:"
      ]
    },
    {
      "metadata": {
        "id": "LJ5PFUFn6n-x",
        "colab_type": "code",
        "outputId": "5139e634-b921-4285-df01-d6e009135ccb",
        "colab": {
          "base_uri": "https://localhost:8080/",
          "height": 34
        }
      },
      "cell_type": "code",
      "source": [
        "X_test = generate_a_disk()\n",
        "X_test = X_test.reshape(1, X_test.shape[0])\n",
        "model.predict(X_test)"
      ],
      "execution_count": 0,
      "outputs": [
        {
          "output_type": "execute_result",
          "data": {
            "text/plain": [
              "array([[0., 1., 0.]], dtype=float32)"
            ]
          },
          "metadata": {
            "tags": []
          },
          "execution_count": 5
        }
      ]
    },
    {
      "metadata": {
        "id": "ixLB5eCg6n-1",
        "colab_type": "text"
      },
      "cell_type": "markdown",
      "source": [
        "The example is correctly classified."
      ]
    },
    {
      "metadata": {
        "id": "QxonDYtw6n-2",
        "colab_type": "text"
      },
      "cell_type": "markdown",
      "source": [
        "### using Adam optimizer"
      ]
    },
    {
      "metadata": {
        "id": "NV_CShP86n-3",
        "colab_type": "code",
        "outputId": "3017dd36-2f6f-4804-d046-f40232a77eef",
        "colab": {
          "base_uri": "https://localhost:8080/",
          "height": 714
        }
      },
      "cell_type": "code",
      "source": [
        "model_adam = Sequential()\n",
        "model_adam.add(Dense(3, activation='softmax', input_dim=72*72))\n",
        "model_adam.compile(loss='categorical_crossentropy',\n",
        "              optimizer='adam',\n",
        "              metrics=['accuracy'])\n",
        "model_adam.fit(X_train, np_utils.to_categorical(Y_train, 3), epochs=20, batch_size=32)"
      ],
      "execution_count": 0,
      "outputs": [
        {
          "output_type": "stream",
          "text": [
            "Epoch 1/20\n",
            "300/300 [==============================] - 0s 497us/step - loss: 2.2626 - acc: 0.4233\n",
            "Epoch 2/20\n",
            "300/300 [==============================] - 0s 99us/step - loss: 1.1104 - acc: 0.5800\n",
            "Epoch 3/20\n",
            "300/300 [==============================] - 0s 111us/step - loss: 0.7389 - acc: 0.6833\n",
            "Epoch 4/20\n",
            "300/300 [==============================] - 0s 116us/step - loss: 0.4515 - acc: 0.7633\n",
            "Epoch 5/20\n",
            "300/300 [==============================] - 0s 118us/step - loss: 0.3422 - acc: 0.9200\n",
            "Epoch 6/20\n",
            "300/300 [==============================] - 0s 111us/step - loss: 0.2953 - acc: 0.9500\n",
            "Epoch 7/20\n",
            "300/300 [==============================] - 0s 109us/step - loss: 0.2702 - acc: 0.9533\n",
            "Epoch 8/20\n",
            "300/300 [==============================] - 0s 110us/step - loss: 0.2756 - acc: 0.8967\n",
            "Epoch 9/20\n",
            "300/300 [==============================] - 0s 127us/step - loss: 0.2456 - acc: 0.9067\n",
            "Epoch 10/20\n",
            "300/300 [==============================] - 0s 113us/step - loss: 0.2802 - acc: 0.8733\n",
            "Epoch 11/20\n",
            "300/300 [==============================] - 0s 114us/step - loss: 0.3417 - acc: 0.8333\n",
            "Epoch 12/20\n",
            "300/300 [==============================] - 0s 124us/step - loss: 0.2088 - acc: 0.9233\n",
            "Epoch 13/20\n",
            "300/300 [==============================] - 0s 114us/step - loss: 0.1786 - acc: 0.9567\n",
            "Epoch 14/20\n",
            "300/300 [==============================] - 0s 112us/step - loss: 0.1313 - acc: 0.9933\n",
            "Epoch 15/20\n",
            "300/300 [==============================] - 0s 117us/step - loss: 0.1195 - acc: 1.0000\n",
            "Epoch 16/20\n",
            "300/300 [==============================] - 0s 120us/step - loss: 0.1143 - acc: 0.9933\n",
            "Epoch 17/20\n",
            "300/300 [==============================] - 0s 129us/step - loss: 0.1115 - acc: 0.9900\n",
            "Epoch 18/20\n",
            "300/300 [==============================] - 0s 122us/step - loss: 0.1008 - acc: 1.0000\n",
            "Epoch 19/20\n",
            "300/300 [==============================] - 0s 124us/step - loss: 0.0966 - acc: 0.9967\n",
            "Epoch 20/20\n",
            "300/300 [==============================] - 0s 122us/step - loss: 0.1084 - acc: 0.9933\n"
          ],
          "name": "stdout"
        },
        {
          "output_type": "execute_result",
          "data": {
            "text/plain": [
              "<keras.callbacks.History at 0x7f512afbaf60>"
            ]
          },
          "metadata": {
            "tags": []
          },
          "execution_count": 6
        }
      ]
    },
    {
      "metadata": {
        "id": "zGvJo8FR6n-8",
        "colab_type": "text"
      },
      "cell_type": "markdown",
      "source": [
        "We see that Adam optimizer converges faster than SGD. \n",
        "Similarly, we can check the classifier using a disk example:"
      ]
    },
    {
      "metadata": {
        "id": "29g_CqL36n-9",
        "colab_type": "code",
        "outputId": "e8005367-6089-4429-a8de-62d19d12f10a",
        "colab": {
          "base_uri": "https://localhost:8080/",
          "height": 34
        }
      },
      "cell_type": "code",
      "source": [
        "X_test = generate_a_disk()\n",
        "X_test = X_test.reshape(1, X_test.shape[0])\n",
        "model_adam.predict(X_test)"
      ],
      "execution_count": 0,
      "outputs": [
        {
          "output_type": "execute_result",
          "data": {
            "text/plain": [
              "array([[0., 1., 0.]], dtype=float32)"
            ]
          },
          "metadata": {
            "tags": []
          },
          "execution_count": 7
        }
      ]
    },
    {
      "metadata": {
        "id": "GilRdg8C6n_B",
        "colab_type": "text"
      },
      "cell_type": "markdown",
      "source": [
        "The example is correctly classified."
      ]
    },
    {
      "metadata": {
        "id": "J2agJuq36n_B",
        "colab_type": "text"
      },
      "cell_type": "markdown",
      "source": [
        "<a id='task2'></a>\n",
        "## 2 Visualization of the Solution"
      ]
    },
    {
      "metadata": {
        "id": "pipVfv8W6n_C",
        "colab_type": "code",
        "colab": {}
      },
      "cell_type": "code",
      "source": [
        "cols = model.get_weights()[0]"
      ],
      "execution_count": 0,
      "outputs": []
    },
    {
      "metadata": {
        "id": "4hf3Kw_86n_E",
        "colab_type": "code",
        "outputId": "808525c5-e292-4b53-eeee-23c523a65de8",
        "colab": {
          "base_uri": "https://localhost:8080/",
          "height": 264
        }
      },
      "cell_type": "code",
      "source": [
        "fig = plt.figure(figsize=(12, 8))\n",
        "ax = fig.add_subplot(1, 3, 1)\n",
        "plt.imshow(cols[:, 0].reshape(72, 72))\n",
        "ax = fig.add_subplot(1, 3, 2)\n",
        "plt.imshow(cols[:, 1].reshape(72, 72))\n",
        "ax = fig.add_subplot(1, 3, 3)\n",
        "plt.imshow(cols[:, 2].reshape(72, 72))"
      ],
      "execution_count": 0,
      "outputs": [
        {
          "output_type": "execute_result",
          "data": {
            "text/plain": [
              "<matplotlib.image.AxesImage at 0x7f512ac74da0>"
            ]
          },
          "metadata": {
            "tags": []
          },
          "execution_count": 9
        },
        {
          "output_type": "display_data",
          "data": {
            "image/png": "[encoded data removed]",
            "text/plain": [
              "<matplotlib.figure.Figure at 0x7f512acfcf60>"
            ]
          },
          "metadata": {
            "tags": []
          }
        }
      ]
    },
    {
      "metadata": {
        "id": "Hl77YpO90G_A",
        "colab_type": "text"
      },
      "cell_type": "markdown",
      "source": [
        "Each image represents the visualization of one column."
      ]
    },
    {
      "metadata": {
        "id": "zdiv_5vF6n_G",
        "colab_type": "text"
      },
      "cell_type": "markdown",
      "source": [
        "<a id='task3'></a>\n",
        "## 3 A More Difficult Classification Problem"
      ]
    },
    {
      "metadata": {
        "id": "uBoi6N871nbV",
        "colab_type": "text"
      },
      "cell_type": "markdown",
      "source": [
        "### Create new training set"
      ]
    },
    {
      "metadata": {
        "id": "phnbsKXM6n_H",
        "colab_type": "code",
        "outputId": "f297831b-b0f8-43c2-bd3f-f20834e586b1",
        "colab": {
          "base_uri": "https://localhost:8080/",
          "height": 374
        }
      },
      "cell_type": "code",
      "source": [
        "# increase the number of training samples to 2000\n",
        "[X_train, Y_train] = generate_dataset_classification(2000, 20, True)"
      ],
      "execution_count": 0,
      "outputs": [
        {
          "output_type": "stream",
          "text": [
            "Creating data:\n",
            "0\n",
            "100\n",
            "200\n",
            "300\n",
            "400\n",
            "500\n",
            "600\n",
            "700\n",
            "800\n",
            "900\n",
            "1000\n",
            "1100\n",
            "1200\n",
            "1300\n",
            "1400\n",
            "1500\n",
            "1600\n",
            "1700\n",
            "1800\n",
            "1900\n"
          ],
          "name": "stdout"
        }
      ]
    },
    {
      "metadata": {
        "id": "YBqyc6eX6n_H",
        "colab_type": "text"
      },
      "cell_type": "markdown",
      "source": [
        "### retrain the linear classifier using new training set"
      ]
    },
    {
      "metadata": {
        "id": "kctYhOo96n_J",
        "colab_type": "code",
        "outputId": "017d67b8-9795-4e2a-c12b-b0ca6412da8a",
        "colab": {
          "base_uri": "https://localhost:8080/",
          "height": 3434
        }
      },
      "cell_type": "code",
      "source": [
        "# the same linear classifier as in the previous section\n",
        "model = Sequential()\n",
        "model.add(Dense(3, activation='softmax', input_dim=72*72))\n",
        "model.compile(loss='categorical_crossentropy',\n",
        "              optimizer=keras.optimizers.SGD(lr=0.001, momentum=0.9, nesterov=True),\n",
        "              metrics=['accuracy'])\n",
        "model.fit(X_train, np_utils.to_categorical(Y_train, 3), epochs=100, batch_size=64)"
      ],
      "execution_count": 0,
      "outputs": [
        {
          "output_type": "stream",
          "text": [
            "Epoch 1/100\n",
            "2000/2000 [==============================] - 0s 127us/step - loss: 1.1758 - acc: 0.4215\n",
            "Epoch 2/100\n",
            "2000/2000 [==============================] - 0s 71us/step - loss: 1.0275 - acc: 0.5230\n",
            "Epoch 3/100\n",
            "2000/2000 [==============================] - 0s 73us/step - loss: 0.9166 - acc: 0.5775\n",
            "Epoch 4/100\n",
            "2000/2000 [==============================] - 0s 78us/step - loss: 1.0675 - acc: 0.5335\n",
            "Epoch 5/100\n",
            "2000/2000 [==============================] - 0s 86us/step - loss: 0.8606 - acc: 0.5930\n",
            "Epoch 6/100\n",
            "2000/2000 [==============================] - 0s 79us/step - loss: 0.8631 - acc: 0.5925\n",
            "Epoch 7/100\n",
            "2000/2000 [==============================] - 0s 77us/step - loss: 0.9231 - acc: 0.5815\n",
            "Epoch 8/100\n",
            "2000/2000 [==============================] - 0s 73us/step - loss: 0.8731 - acc: 0.5985\n",
            "Epoch 9/100\n",
            "2000/2000 [==============================] - 0s 77us/step - loss: 0.7887 - acc: 0.6155\n",
            "Epoch 10/100\n",
            "2000/2000 [==============================] - 0s 75us/step - loss: 0.8579 - acc: 0.6115\n",
            "Epoch 11/100\n",
            "2000/2000 [==============================] - 0s 76us/step - loss: 0.8314 - acc: 0.6085\n",
            "Epoch 12/100\n",
            "2000/2000 [==============================] - 0s 75us/step - loss: 0.8054 - acc: 0.6250\n",
            "Epoch 13/100\n",
            "2000/2000 [==============================] - 0s 77us/step - loss: 0.8251 - acc: 0.6160\n",
            "Epoch 14/100\n",
            "2000/2000 [==============================] - 0s 69us/step - loss: 0.8158 - acc: 0.6140\n",
            "Epoch 15/100\n",
            "2000/2000 [==============================] - 0s 60us/step - loss: 0.7891 - acc: 0.6240\n",
            "Epoch 16/100\n",
            "2000/2000 [==============================] - 0s 64us/step - loss: 0.7645 - acc: 0.6610\n",
            "Epoch 17/100\n",
            "2000/2000 [==============================] - 0s 58us/step - loss: 0.8062 - acc: 0.6335\n",
            "Epoch 18/100\n",
            "2000/2000 [==============================] - 0s 61us/step - loss: 0.7686 - acc: 0.6270\n",
            "Epoch 19/100\n",
            "2000/2000 [==============================] - 0s 59us/step - loss: 0.7702 - acc: 0.6360\n",
            "Epoch 20/100\n",
            "2000/2000 [==============================] - 0s 62us/step - loss: 0.7624 - acc: 0.6540\n",
            "Epoch 21/100\n",
            "2000/2000 [==============================] - 0s 65us/step - loss: 0.7915 - acc: 0.6085\n",
            "Epoch 22/100\n",
            "2000/2000 [==============================] - 0s 69us/step - loss: 0.7304 - acc: 0.6570\n",
            "Epoch 23/100\n",
            "2000/2000 [==============================] - 0s 62us/step - loss: 0.7965 - acc: 0.6275\n",
            "Epoch 24/100\n",
            "2000/2000 [==============================] - 0s 62us/step - loss: 0.7507 - acc: 0.6445\n",
            "Epoch 25/100\n",
            "2000/2000 [==============================] - 0s 61us/step - loss: 0.8101 - acc: 0.6210\n",
            "Epoch 26/100\n",
            "2000/2000 [==============================] - 0s 59us/step - loss: 0.7810 - acc: 0.6085\n",
            "Epoch 27/100\n",
            "2000/2000 [==============================] - 0s 59us/step - loss: 0.7402 - acc: 0.6595\n",
            "Epoch 28/100\n",
            "2000/2000 [==============================] - 0s 60us/step - loss: 0.7965 - acc: 0.6315\n",
            "Epoch 29/100\n",
            "2000/2000 [==============================] - 0s 62us/step - loss: 0.7746 - acc: 0.6435\n",
            "Epoch 30/100\n",
            "2000/2000 [==============================] - 0s 62us/step - loss: 0.7863 - acc: 0.6365\n",
            "Epoch 31/100\n",
            "2000/2000 [==============================] - 0s 62us/step - loss: 0.7477 - acc: 0.6515\n",
            "Epoch 32/100\n",
            "2000/2000 [==============================] - 0s 63us/step - loss: 0.7063 - acc: 0.6620\n",
            "Epoch 33/100\n",
            "2000/2000 [==============================] - 0s 62us/step - loss: 0.7517 - acc: 0.6460\n",
            "Epoch 34/100\n",
            "2000/2000 [==============================] - 0s 62us/step - loss: 0.7333 - acc: 0.6540\n",
            "Epoch 35/100\n",
            "2000/2000 [==============================] - 0s 65us/step - loss: 0.7096 - acc: 0.6655\n",
            "Epoch 36/100\n",
            "2000/2000 [==============================] - 0s 67us/step - loss: 0.6705 - acc: 0.6855\n",
            "Epoch 37/100\n",
            "2000/2000 [==============================] - 0s 65us/step - loss: 0.7302 - acc: 0.6560\n",
            "Epoch 38/100\n",
            "2000/2000 [==============================] - 0s 61us/step - loss: 0.6650 - acc: 0.6845\n",
            "Epoch 39/100\n",
            "2000/2000 [==============================] - 0s 62us/step - loss: 0.7253 - acc: 0.6565\n",
            "Epoch 40/100\n",
            "2000/2000 [==============================] - 0s 60us/step - loss: 0.7122 - acc: 0.6570\n",
            "Epoch 41/100\n",
            "2000/2000 [==============================] - 0s 61us/step - loss: 0.6806 - acc: 0.6770\n",
            "Epoch 42/100\n",
            "2000/2000 [==============================] - 0s 61us/step - loss: 0.6653 - acc: 0.6955\n",
            "Epoch 43/100\n",
            "2000/2000 [==============================] - 0s 59us/step - loss: 0.7176 - acc: 0.6680\n",
            "Epoch 44/100\n",
            "2000/2000 [==============================] - 0s 64us/step - loss: 0.7206 - acc: 0.6770\n",
            "Epoch 45/100\n",
            "2000/2000 [==============================] - 0s 61us/step - loss: 0.7488 - acc: 0.6540\n",
            "Epoch 46/100\n",
            "2000/2000 [==============================] - 0s 61us/step - loss: 0.6593 - acc: 0.6865\n",
            "Epoch 47/100\n",
            "2000/2000 [==============================] - 0s 62us/step - loss: 0.7345 - acc: 0.6495\n",
            "Epoch 48/100\n",
            "2000/2000 [==============================] - 0s 60us/step - loss: 0.8022 - acc: 0.6370\n",
            "Epoch 49/100\n",
            "2000/2000 [==============================] - 0s 60us/step - loss: 0.6606 - acc: 0.6965\n",
            "Epoch 50/100\n",
            "2000/2000 [==============================] - 0s 61us/step - loss: 0.7057 - acc: 0.6595\n",
            "Epoch 51/100\n",
            "2000/2000 [==============================] - 0s 59us/step - loss: 0.6332 - acc: 0.7020\n",
            "Epoch 52/100\n",
            "2000/2000 [==============================] - 0s 62us/step - loss: 0.7083 - acc: 0.6705\n",
            "Epoch 53/100\n",
            "2000/2000 [==============================] - 0s 63us/step - loss: 0.6116 - acc: 0.7200\n",
            "Epoch 54/100\n",
            "2000/2000 [==============================] - 0s 65us/step - loss: 0.6384 - acc: 0.7040\n",
            "Epoch 55/100\n",
            "2000/2000 [==============================] - 0s 65us/step - loss: 0.6770 - acc: 0.6840\n",
            "Epoch 56/100\n",
            "2000/2000 [==============================] - 0s 61us/step - loss: 0.6131 - acc: 0.7055\n",
            "Epoch 57/100\n",
            "2000/2000 [==============================] - 0s 62us/step - loss: 0.6793 - acc: 0.6830\n",
            "Epoch 58/100\n",
            "2000/2000 [==============================] - 0s 65us/step - loss: 0.6399 - acc: 0.6895\n",
            "Epoch 59/100\n",
            "2000/2000 [==============================] - 0s 64us/step - loss: 0.6418 - acc: 0.6910\n",
            "Epoch 60/100\n",
            "2000/2000 [==============================] - 0s 61us/step - loss: 0.6160 - acc: 0.7175\n",
            "Epoch 61/100\n",
            "2000/2000 [==============================] - 0s 64us/step - loss: 0.6329 - acc: 0.7010\n",
            "Epoch 62/100\n",
            "2000/2000 [==============================] - 0s 59us/step - loss: 0.6643 - acc: 0.6825\n",
            "Epoch 63/100\n",
            "2000/2000 [==============================] - 0s 60us/step - loss: 0.5969 - acc: 0.7220\n",
            "Epoch 64/100\n",
            "2000/2000 [==============================] - 0s 59us/step - loss: 0.6705 - acc: 0.6830\n",
            "Epoch 65/100\n",
            "2000/2000 [==============================] - 0s 59us/step - loss: 0.6495 - acc: 0.6820\n",
            "Epoch 66/100\n",
            "2000/2000 [==============================] - 0s 61us/step - loss: 0.6271 - acc: 0.7045\n",
            "Epoch 67/100\n",
            "2000/2000 [==============================] - 0s 61us/step - loss: 0.6267 - acc: 0.6990\n",
            "Epoch 68/100\n",
            "2000/2000 [==============================] - 0s 63us/step - loss: 0.6412 - acc: 0.7040\n",
            "Epoch 69/100\n",
            "2000/2000 [==============================] - 0s 67us/step - loss: 0.6500 - acc: 0.6970\n",
            "Epoch 70/100\n",
            "2000/2000 [==============================] - 0s 63us/step - loss: 0.6091 - acc: 0.7100\n",
            "Epoch 71/100\n",
            "2000/2000 [==============================] - 0s 61us/step - loss: 0.6229 - acc: 0.6950\n",
            "Epoch 72/100\n",
            "2000/2000 [==============================] - 0s 66us/step - loss: 0.6139 - acc: 0.7105\n",
            "Epoch 73/100\n",
            "2000/2000 [==============================] - 0s 67us/step - loss: 0.6446 - acc: 0.6830\n",
            "Epoch 74/100\n",
            "2000/2000 [==============================] - 0s 62us/step - loss: 0.6339 - acc: 0.6985\n",
            "Epoch 75/100\n",
            "2000/2000 [==============================] - 0s 61us/step - loss: 0.6169 - acc: 0.7085\n",
            "Epoch 76/100\n",
            "2000/2000 [==============================] - 0s 59us/step - loss: 0.6187 - acc: 0.7155\n",
            "Epoch 77/100\n",
            "2000/2000 [==============================] - 0s 56us/step - loss: 0.6204 - acc: 0.7070\n",
            "Epoch 78/100\n",
            "2000/2000 [==============================] - 0s 60us/step - loss: 0.5866 - acc: 0.7270\n",
            "Epoch 79/100\n",
            "2000/2000 [==============================] - 0s 61us/step - loss: 0.5985 - acc: 0.7315\n",
            "Epoch 80/100\n",
            "2000/2000 [==============================] - 0s 58us/step - loss: 0.5788 - acc: 0.7460\n",
            "Epoch 81/100\n",
            "2000/2000 [==============================] - 0s 60us/step - loss: 0.6069 - acc: 0.7155\n",
            "Epoch 82/100\n",
            "2000/2000 [==============================] - 0s 62us/step - loss: 0.5920 - acc: 0.7365\n",
            "Epoch 83/100\n",
            "2000/2000 [==============================] - 0s 60us/step - loss: 0.5903 - acc: 0.7185\n",
            "Epoch 84/100\n",
            "2000/2000 [==============================] - 0s 58us/step - loss: 0.5824 - acc: 0.7390\n",
            "Epoch 85/100\n",
            "2000/2000 [==============================] - 0s 58us/step - loss: 0.6355 - acc: 0.7000\n",
            "Epoch 86/100\n",
            "2000/2000 [==============================] - 0s 58us/step - loss: 0.5798 - acc: 0.7165\n",
            "Epoch 87/100\n",
            "2000/2000 [==============================] - 0s 60us/step - loss: 0.6154 - acc: 0.7255\n",
            "Epoch 88/100\n",
            "2000/2000 [==============================] - 0s 58us/step - loss: 0.5890 - acc: 0.7315\n",
            "Epoch 89/100\n",
            "2000/2000 [==============================] - 0s 65us/step - loss: 0.5610 - acc: 0.7400\n",
            "Epoch 90/100\n",
            "2000/2000 [==============================] - 0s 62us/step - loss: 0.6167 - acc: 0.7070\n",
            "Epoch 91/100\n",
            "2000/2000 [==============================] - 0s 60us/step - loss: 0.5869 - acc: 0.7200\n",
            "Epoch 92/100\n",
            "2000/2000 [==============================] - 0s 58us/step - loss: 0.6353 - acc: 0.6870\n",
            "Epoch 93/100\n",
            "2000/2000 [==============================] - 0s 57us/step - loss: 0.5808 - acc: 0.7365\n",
            "Epoch 94/100\n",
            "2000/2000 [==============================] - 0s 56us/step - loss: 0.5769 - acc: 0.7475\n",
            "Epoch 95/100\n",
            "2000/2000 [==============================] - 0s 54us/step - loss: 0.5777 - acc: 0.7335\n",
            "Epoch 96/100\n",
            "2000/2000 [==============================] - 0s 57us/step - loss: 0.5774 - acc: 0.7425\n",
            "Epoch 97/100\n",
            "2000/2000 [==============================] - 0s 58us/step - loss: 0.5833 - acc: 0.7325\n",
            "Epoch 98/100\n",
            "2000/2000 [==============================] - 0s 56us/step - loss: 0.5837 - acc: 0.7250\n",
            "Epoch 99/100\n",
            "2000/2000 [==============================] - 0s 57us/step - loss: 0.5750 - acc: 0.7295\n",
            "Epoch 100/100\n",
            "2000/2000 [==============================] - 0s 62us/step - loss: 0.5527 - acc: 0.7475\n"
          ],
          "name": "stdout"
        },
        {
          "output_type": "execute_result",
          "data": {
            "text/plain": [
              "<keras.callbacks.History at 0x7f510efbac88>"
            ]
          },
          "metadata": {
            "tags": []
          },
          "execution_count": 12
        }
      ]
    },
    {
      "metadata": {
        "id": "x3EJ_7at2KOD",
        "colab_type": "text"
      },
      "cell_type": "markdown",
      "source": [
        "### evaluate the linear classifier on a test set"
      ]
    },
    {
      "metadata": {
        "id": "DnITQI5F6n_M",
        "colab_type": "code",
        "outputId": "52a7d34e-4032-4d77-a1e1-d5256b1f2be6",
        "colab": {
          "base_uri": "https://localhost:8080/",
          "height": 85
        }
      },
      "cell_type": "code",
      "source": [
        "[X_test, Y_test] = generate_test_set_classification()"
      ],
      "execution_count": 0,
      "outputs": [
        {
          "output_type": "stream",
          "text": [
            "Creating data:\n",
            "0\n",
            "100\n",
            "200\n"
          ],
          "name": "stdout"
        }
      ]
    },
    {
      "metadata": {
        "id": "Z07471366n_P",
        "colab_type": "code",
        "outputId": "b1c0c42a-6089-46be-a791-e6c33c7c1913",
        "colab": {
          "base_uri": "https://localhost:8080/",
          "height": 51
        }
      },
      "cell_type": "code",
      "source": [
        "model.evaluate(X_test, Y_test)"
      ],
      "execution_count": 0,
      "outputs": [
        {
          "output_type": "stream",
          "text": [
            "300/300 [==============================] - 0s 174us/step\n"
          ],
          "name": "stdout"
        },
        {
          "output_type": "execute_result",
          "data": {
            "text/plain": [
              "[0.7564015142122904, 0.6133333341280619]"
            ]
          },
          "metadata": {
            "tags": []
          },
          "execution_count": 14
        }
      ]
    },
    {
      "metadata": {
        "id": "Vbi-RlFf6n_Q",
        "colab_type": "text"
      },
      "cell_type": "markdown",
      "source": [
        "The test accuracy is less than 0.62, which is not an ideal result. Therefore linear classifier doesn't work well on the new dataset. Next, we'll see how Convolutional Neural Network performs on this task."
      ]
    },
    {
      "metadata": {
        "id": "l_qTUUaR6n_R",
        "colab_type": "text"
      },
      "cell_type": "markdown",
      "source": [
        "### train a CNN classifier on the new dataset"
      ]
    },
    {
      "metadata": {
        "id": "pKr3Pt8i6n_R",
        "colab_type": "code",
        "outputId": "59c33a53-0e03-460b-ec2b-aebbe73c21ec",
        "colab": {
          "base_uri": "https://localhost:8080/",
          "height": 3434
        }
      },
      "cell_type": "code",
      "source": [
        "# a simple CNN with one convolutional layer, one pooling layer and one fully connected layer\n",
        "model = Sequential()\n",
        "model.add(Conv2D(input_shape=(72, 72, 1), filters=16, kernel_size=(5, 5), activation='relu', name=\"conv_1\"))\n",
        "model.add(MaxPooling2D(pool_size=(2, 2), name=\"pooling_1\"))\n",
        "model.add(Flatten(name=\"flatten\"))\n",
        "model.add(Dense(3, activation='softmax', name=\"dense_1\"))\n",
        "model.compile(loss='categorical_crossentropy',\n",
        "              optimizer=keras.optimizers.SGD(lr=0.001, momentum=0.9, nesterov=True),\n",
        "              metrics=['accuracy'])\n",
        "model.fit(X_train.reshape(X_train.shape[0], 72, 72, 1), np_utils.to_categorical(Y_train, 3), epochs=100, batch_size=64)"
      ],
      "execution_count": 0,
      "outputs": [
        {
          "output_type": "stream",
          "text": [
            "Epoch 1/100\n",
            "2000/2000 [==============================] - 7s 4ms/step - loss: 1.0808 - acc: 0.3910\n",
            "Epoch 2/100\n",
            "2000/2000 [==============================] - 7s 4ms/step - loss: 1.0074 - acc: 0.4885\n",
            "Epoch 3/100\n",
            "2000/2000 [==============================] - 7s 3ms/step - loss: 0.9220 - acc: 0.5475\n",
            "Epoch 4/100\n",
            "2000/2000 [==============================] - 7s 3ms/step - loss: 0.8580 - acc: 0.5650\n",
            "Epoch 5/100\n",
            "2000/2000 [==============================] - 7s 3ms/step - loss: 0.8227 - acc: 0.6145\n",
            "Epoch 6/100\n",
            "2000/2000 [==============================] - 7s 3ms/step - loss: 0.7975 - acc: 0.6250\n",
            "Epoch 7/100\n",
            "2000/2000 [==============================] - 7s 3ms/step - loss: 0.7999 - acc: 0.6405\n",
            "Epoch 8/100\n",
            "2000/2000 [==============================] - 7s 3ms/step - loss: 0.7768 - acc: 0.6470\n",
            "Epoch 9/100\n",
            "2000/2000 [==============================] - 7s 3ms/step - loss: 0.7449 - acc: 0.6685\n",
            "Epoch 10/100\n",
            "2000/2000 [==============================] - 7s 3ms/step - loss: 0.7326 - acc: 0.6685\n",
            "Epoch 11/100\n",
            "2000/2000 [==============================] - 7s 3ms/step - loss: 0.7263 - acc: 0.6660\n",
            "Epoch 12/100\n",
            "2000/2000 [==============================] - 7s 3ms/step - loss: 0.7024 - acc: 0.6920\n",
            "Epoch 13/100\n",
            "2000/2000 [==============================] - 7s 3ms/step - loss: 0.6908 - acc: 0.7000\n",
            "Epoch 14/100\n",
            "2000/2000 [==============================] - 7s 3ms/step - loss: 0.6925 - acc: 0.6980\n",
            "Epoch 15/100\n",
            "2000/2000 [==============================] - 7s 3ms/step - loss: 0.6732 - acc: 0.7375\n",
            "Epoch 16/100\n",
            "2000/2000 [==============================] - 7s 3ms/step - loss: 0.6613 - acc: 0.7385\n",
            "Epoch 17/100\n",
            "2000/2000 [==============================] - 7s 3ms/step - loss: 0.6451 - acc: 0.7390\n",
            "Epoch 18/100\n",
            "2000/2000 [==============================] - 7s 3ms/step - loss: 0.6325 - acc: 0.7625\n",
            "Epoch 19/100\n",
            "2000/2000 [==============================] - 7s 3ms/step - loss: 0.6215 - acc: 0.7650\n",
            "Epoch 20/100\n",
            "2000/2000 [==============================] - 7s 3ms/step - loss: 0.6031 - acc: 0.7770\n",
            "Epoch 21/100\n",
            "2000/2000 [==============================] - 7s 4ms/step - loss: 0.5922 - acc: 0.7825\n",
            "Epoch 22/100\n",
            "2000/2000 [==============================] - 7s 3ms/step - loss: 0.5780 - acc: 0.7930\n",
            "Epoch 23/100\n",
            "2000/2000 [==============================] - 7s 3ms/step - loss: 0.5743 - acc: 0.7890\n",
            "Epoch 24/100\n",
            "2000/2000 [==============================] - 7s 3ms/step - loss: 0.5552 - acc: 0.8070\n",
            "Epoch 25/100\n",
            "2000/2000 [==============================] - 7s 3ms/step - loss: 0.5466 - acc: 0.8015\n",
            "Epoch 26/100\n",
            "2000/2000 [==============================] - 7s 3ms/step - loss: 0.5288 - acc: 0.8180\n",
            "Epoch 27/100\n",
            "2000/2000 [==============================] - 7s 3ms/step - loss: 0.5184 - acc: 0.8175\n",
            "Epoch 28/100\n",
            "2000/2000 [==============================] - 7s 3ms/step - loss: 0.5133 - acc: 0.8245\n",
            "Epoch 29/100\n",
            "2000/2000 [==============================] - 7s 3ms/step - loss: 0.5064 - acc: 0.8200\n",
            "Epoch 30/100\n",
            "2000/2000 [==============================] - 7s 3ms/step - loss: 0.4985 - acc: 0.8215\n",
            "Epoch 31/100\n",
            "2000/2000 [==============================] - 7s 3ms/step - loss: 0.4882 - acc: 0.8245\n",
            "Epoch 32/100\n",
            "2000/2000 [==============================] - 7s 3ms/step - loss: 0.4702 - acc: 0.8405\n",
            "Epoch 33/100\n",
            "2000/2000 [==============================] - 7s 3ms/step - loss: 0.4721 - acc: 0.8330\n",
            "Epoch 34/100\n",
            "2000/2000 [==============================] - 7s 3ms/step - loss: 0.4576 - acc: 0.8515\n",
            "Epoch 35/100\n",
            "2000/2000 [==============================] - 7s 3ms/step - loss: 0.4421 - acc: 0.8570\n",
            "Epoch 36/100\n",
            "2000/2000 [==============================] - 7s 3ms/step - loss: 0.4316 - acc: 0.8610\n",
            "Epoch 37/100\n",
            "2000/2000 [==============================] - 7s 3ms/step - loss: 0.4158 - acc: 0.8670\n",
            "Epoch 38/100\n",
            "2000/2000 [==============================] - 7s 4ms/step - loss: 0.4113 - acc: 0.8680\n",
            "Epoch 39/100\n",
            "2000/2000 [==============================] - 7s 4ms/step - loss: 0.4048 - acc: 0.8670\n",
            "Epoch 40/100\n",
            "2000/2000 [==============================] - 7s 3ms/step - loss: 0.4051 - acc: 0.8735\n",
            "Epoch 41/100\n",
            "2000/2000 [==============================] - 7s 3ms/step - loss: 0.3959 - acc: 0.8680\n",
            "Epoch 42/100\n",
            "2000/2000 [==============================] - 7s 3ms/step - loss: 0.3873 - acc: 0.8715\n",
            "Epoch 43/100\n",
            "2000/2000 [==============================] - 7s 4ms/step - loss: 0.3814 - acc: 0.8750\n",
            "Epoch 44/100\n",
            "2000/2000 [==============================] - 7s 4ms/step - loss: 0.3712 - acc: 0.8760\n",
            "Epoch 45/100\n",
            "2000/2000 [==============================] - 7s 3ms/step - loss: 0.3675 - acc: 0.8820\n",
            "Epoch 46/100\n",
            "2000/2000 [==============================] - 7s 3ms/step - loss: 0.3555 - acc: 0.8780\n",
            "Epoch 47/100\n",
            "2000/2000 [==============================] - 7s 3ms/step - loss: 0.3590 - acc: 0.8815\n",
            "Epoch 48/100\n",
            "2000/2000 [==============================] - 7s 3ms/step - loss: 0.3436 - acc: 0.8895\n",
            "Epoch 49/100\n",
            "2000/2000 [==============================] - 7s 3ms/step - loss: 0.3438 - acc: 0.8885\n",
            "Epoch 50/100\n",
            "2000/2000 [==============================] - 7s 3ms/step - loss: 0.3359 - acc: 0.8890\n",
            "Epoch 51/100\n",
            "2000/2000 [==============================] - 7s 3ms/step - loss: 0.3286 - acc: 0.8985\n",
            "Epoch 52/100\n",
            "2000/2000 [==============================] - 7s 3ms/step - loss: 0.3344 - acc: 0.8875\n",
            "Epoch 53/100\n",
            "2000/2000 [==============================] - 7s 3ms/step - loss: 0.3425 - acc: 0.8950\n",
            "Epoch 54/100\n",
            "2000/2000 [==============================] - 7s 3ms/step - loss: 0.3144 - acc: 0.9015\n",
            "Epoch 55/100\n",
            "2000/2000 [==============================] - 7s 3ms/step - loss: 0.3140 - acc: 0.9000\n",
            "Epoch 56/100\n",
            "2000/2000 [==============================] - 7s 3ms/step - loss: 0.3046 - acc: 0.9045\n",
            "Epoch 57/100\n",
            "2000/2000 [==============================] - 7s 3ms/step - loss: 0.2979 - acc: 0.9050\n",
            "Epoch 58/100\n",
            "2000/2000 [==============================] - 7s 3ms/step - loss: 0.2968 - acc: 0.9115\n",
            "Epoch 59/100\n",
            "2000/2000 [==============================] - 7s 3ms/step - loss: 0.2803 - acc: 0.9135\n",
            "Epoch 60/100\n",
            "2000/2000 [==============================] - 7s 3ms/step - loss: 0.2791 - acc: 0.9150\n",
            "Epoch 61/100\n",
            "2000/2000 [==============================] - 7s 3ms/step - loss: 0.2818 - acc: 0.9170\n",
            "Epoch 62/100\n",
            "2000/2000 [==============================] - 7s 3ms/step - loss: 0.2744 - acc: 0.9195\n",
            "Epoch 63/100\n",
            "2000/2000 [==============================] - 7s 3ms/step - loss: 0.2757 - acc: 0.9180\n",
            "Epoch 64/100\n",
            "2000/2000 [==============================] - 7s 3ms/step - loss: 0.2644 - acc: 0.9205\n",
            "Epoch 65/100\n",
            "2000/2000 [==============================] - 7s 3ms/step - loss: 0.2547 - acc: 0.9255\n",
            "Epoch 66/100\n",
            "2000/2000 [==============================] - 7s 3ms/step - loss: 0.2850 - acc: 0.9090\n",
            "Epoch 67/100\n",
            "2000/2000 [==============================] - 7s 3ms/step - loss: 0.2611 - acc: 0.9230\n",
            "Epoch 68/100\n",
            "2000/2000 [==============================] - 7s 3ms/step - loss: 0.2476 - acc: 0.9300\n",
            "Epoch 69/100\n",
            "2000/2000 [==============================] - 7s 3ms/step - loss: 0.2411 - acc: 0.9305\n",
            "Epoch 70/100\n",
            "2000/2000 [==============================] - 7s 3ms/step - loss: 0.2347 - acc: 0.9345\n",
            "Epoch 71/100\n",
            "2000/2000 [==============================] - 7s 3ms/step - loss: 0.2302 - acc: 0.9300\n",
            "Epoch 72/100\n",
            "2000/2000 [==============================] - 7s 3ms/step - loss: 0.2249 - acc: 0.9310\n",
            "Epoch 73/100\n",
            "2000/2000 [==============================] - 7s 3ms/step - loss: 0.2257 - acc: 0.9355\n",
            "Epoch 74/100\n",
            "2000/2000 [==============================] - 7s 3ms/step - loss: 0.2240 - acc: 0.9395\n",
            "Epoch 75/100\n",
            "2000/2000 [==============================] - 7s 3ms/step - loss: 0.2180 - acc: 0.9375\n",
            "Epoch 76/100\n",
            "2000/2000 [==============================] - 7s 3ms/step - loss: 0.2163 - acc: 0.9360\n",
            "Epoch 77/100\n",
            "2000/2000 [==============================] - 7s 3ms/step - loss: 0.2107 - acc: 0.9380\n",
            "Epoch 78/100\n",
            "2000/2000 [==============================] - 7s 3ms/step - loss: 0.2045 - acc: 0.9425\n",
            "Epoch 79/100\n",
            "2000/2000 [==============================] - 7s 3ms/step - loss: 0.2025 - acc: 0.9455\n",
            "Epoch 80/100\n",
            "2000/2000 [==============================] - 7s 3ms/step - loss: 0.2028 - acc: 0.9455\n",
            "Epoch 81/100\n",
            "2000/2000 [==============================] - 7s 3ms/step - loss: 0.1972 - acc: 0.9445\n",
            "Epoch 82/100\n",
            "2000/2000 [==============================] - 7s 3ms/step - loss: 0.1924 - acc: 0.9470\n",
            "Epoch 83/100\n",
            "2000/2000 [==============================] - 7s 4ms/step - loss: 0.1942 - acc: 0.9445\n",
            "Epoch 84/100\n",
            "2000/2000 [==============================] - 7s 3ms/step - loss: 0.1891 - acc: 0.9465\n",
            "Epoch 85/100\n",
            "2000/2000 [==============================] - 7s 3ms/step - loss: 0.1877 - acc: 0.9480\n",
            "Epoch 86/100\n",
            "2000/2000 [==============================] - 7s 3ms/step - loss: 0.1848 - acc: 0.9500\n",
            "Epoch 87/100\n",
            "2000/2000 [==============================] - 7s 3ms/step - loss: 0.1820 - acc: 0.9495\n",
            "Epoch 88/100\n",
            "2000/2000 [==============================] - 7s 4ms/step - loss: 0.1765 - acc: 0.9530\n",
            "Epoch 89/100\n",
            "2000/2000 [==============================] - 7s 4ms/step - loss: 0.1752 - acc: 0.9535\n",
            "Epoch 90/100\n",
            "2000/2000 [==============================] - 7s 3ms/step - loss: 0.1740 - acc: 0.9540\n",
            "Epoch 91/100\n",
            "2000/2000 [==============================] - 7s 3ms/step - loss: 0.1695 - acc: 0.9540\n",
            "Epoch 92/100\n",
            "2000/2000 [==============================] - 7s 3ms/step - loss: 0.1805 - acc: 0.9530\n",
            "Epoch 93/100\n",
            "2000/2000 [==============================] - 7s 3ms/step - loss: 0.1693 - acc: 0.9570\n",
            "Epoch 94/100\n",
            "2000/2000 [==============================] - 7s 3ms/step - loss: 0.1644 - acc: 0.9545\n",
            "Epoch 95/100\n",
            "2000/2000 [==============================] - 7s 3ms/step - loss: 0.1601 - acc: 0.9585\n",
            "Epoch 96/100\n",
            "2000/2000 [==============================] - 7s 3ms/step - loss: 0.1572 - acc: 0.9585\n",
            "Epoch 97/100\n",
            "2000/2000 [==============================] - 7s 3ms/step - loss: 0.1554 - acc: 0.9570\n",
            "Epoch 98/100\n",
            "2000/2000 [==============================] - 7s 3ms/step - loss: 0.1534 - acc: 0.9625\n",
            "Epoch 99/100\n",
            "2000/2000 [==============================] - 7s 3ms/step - loss: 0.1501 - acc: 0.9640\n",
            "Epoch 100/100\n",
            "2000/2000 [==============================] - 7s 3ms/step - loss: 0.1500 - acc: 0.9605\n"
          ],
          "name": "stdout"
        },
        {
          "output_type": "execute_result",
          "data": {
            "text/plain": [
              "<keras.callbacks.History at 0x7f5109cbba58>"
            ]
          },
          "metadata": {
            "tags": []
          },
          "execution_count": 15
        }
      ]
    },
    {
      "metadata": {
        "id": "ngFFN-vu3kD0",
        "colab_type": "text"
      },
      "cell_type": "markdown",
      "source": [
        "### evaluate the CNN classifier on the test set"
      ]
    },
    {
      "metadata": {
        "id": "Knl52jq26n_T",
        "colab_type": "code",
        "outputId": "061ae635-8644-41b4-c674-d13419fd8ef8",
        "colab": {
          "base_uri": "https://localhost:8080/",
          "height": 51
        }
      },
      "cell_type": "code",
      "source": [
        "model.evaluate(X_test.reshape(X_test.shape[0], 72, 72, 1), Y_test)"
      ],
      "execution_count": 0,
      "outputs": [
        {
          "output_type": "stream",
          "text": [
            "300/300 [==============================] - 1s 2ms/step\n"
          ],
          "name": "stdout"
        },
        {
          "output_type": "execute_result",
          "data": {
            "text/plain": [
              "[0.3016618990898132, 0.9066666658719381]"
            ]
          },
          "metadata": {
            "tags": []
          },
          "execution_count": 21
        }
      ]
    },
    {
      "metadata": {
        "id": "nYiCK9jF6n_V",
        "colab_type": "text"
      },
      "cell_type": "markdown",
      "source": [
        "CNN obtained an accuracy around 0.91, much better than linear classifier. This is becaue CNN has the property of translational invariance."
      ]
    },
    {
      "metadata": {
        "id": "2lIJPwYR6n_W",
        "colab_type": "text"
      },
      "cell_type": "markdown",
      "source": [
        "<a id='task4'></a>\n",
        "## 4 A Regression Problem"
      ]
    },
    {
      "metadata": {
        "id": "yAfn86wi3sVe",
        "colab_type": "text"
      },
      "cell_type": "markdown",
      "source": [
        "### create a dataset for the regression problem"
      ]
    },
    {
      "metadata": {
        "id": "AWQWxNSc6n_W",
        "colab_type": "code",
        "outputId": "26b42968-318f-471e-96a2-798f6abe74bc",
        "colab": {
          "base_uri": "https://localhost:8080/",
          "height": 884
        }
      },
      "cell_type": "code",
      "source": [
        "[X_train, Y_train] = generate_dataset_regression(5000, 20)"
      ],
      "execution_count": 0,
      "outputs": [
        {
          "output_type": "stream",
          "text": [
            "Creating data:\n",
            "0\n",
            "100\n",
            "200\n",
            "300\n",
            "400\n",
            "500\n",
            "600\n",
            "700\n",
            "800\n",
            "900\n",
            "1000\n",
            "1100\n",
            "1200\n",
            "1300\n",
            "1400\n",
            "1500\n",
            "1600\n",
            "1700\n",
            "1800\n",
            "1900\n",
            "2000\n",
            "2100\n",
            "2200\n",
            "2300\n",
            "2400\n",
            "2500\n",
            "2600\n",
            "2700\n",
            "2800\n",
            "2900\n",
            "3000\n",
            "3100\n",
            "3200\n",
            "3300\n",
            "3400\n",
            "3500\n",
            "3600\n",
            "3700\n",
            "3800\n",
            "3900\n",
            "4000\n",
            "4100\n",
            "4200\n",
            "4300\n",
            "4400\n",
            "4500\n",
            "4600\n",
            "4700\n",
            "4800\n",
            "4900\n"
          ],
          "name": "stdout"
        }
      ]
    },
    {
      "metadata": {
        "id": "8OyVdoxo6n_a",
        "colab_type": "code",
        "outputId": "c5d6d7d3-d1eb-4df9-bec7-2e6aca233e9c",
        "colab": {
          "base_uri": "https://localhost:8080/",
          "height": 324
        }
      },
      "cell_type": "code",
      "source": [
        "# visualize a training sample\n",
        "visualize_prediction(X_train[4], Y_train[4])"
      ],
      "execution_count": 0,
      "outputs": [
        {
          "output_type": "display_data",
          "data": {
            "image/png": "[encoded data removed]",
            "text/plain": [
              "<matplotlib.figure.Figure at 0x7f50e0b8c080>"
            ]
          },
          "metadata": {
            "tags": []
          }
        }
      ]
    },
    {
      "metadata": {
        "id": "Irve4yNs39sL",
        "colab_type": "text"
      },
      "cell_type": "markdown",
      "source": [
        "Train a CNN on the regression dataset."
      ]
    },
    {
      "metadata": {
        "id": "VBn2qzOs6n_c",
        "colab_type": "code",
        "outputId": "618a7a2a-6ab8-4499-c042-65ed25e28163",
        "colab": {
          "base_uri": "https://localhost:8080/",
          "height": 3434
        }
      },
      "cell_type": "code",
      "source": [
        "model = Sequential()\n",
        "model.add(Conv2D(input_shape=(72, 72, 1), filters=16, kernel_size=(3, 3), activation='relu', name=\"conv_1\"))\n",
        "model.add(MaxPooling2D(pool_size=(2, 2), name=\"pooling_1\"))\n",
        "model.add(Conv2D(filters=32, kernel_size=(3, 3), activation='relu', name=\"conv_2\"))\n",
        "model.add(MaxPooling2D(pool_size=(2, 2), name=\"pooling_2\"))\n",
        "model.add(Dropout(rate=0.25, name=\"dropout_1\"))\n",
        "model.add(Flatten(name=\"flatten\"))\n",
        "model.add(Dense(128, activation='relu', name=\"dense_1\"))\n",
        "model.add(Dropout(rate=0.5, name=\"dropout_2\"))\n",
        "model.add(Dense(6, activation='sigmoid', name=\"dense_2\"))\n",
        "model.compile(loss='mean_squared_error', optimizer='adam')\n",
        "model.fit(X_train.reshape(X_train.shape[0], 72, 72, 1), Y_train, epochs=100, batch_size=64)"
      ],
      "execution_count": 0,
      "outputs": [
        {
          "output_type": "stream",
          "text": [
            "Epoch 1/100\n",
            "5000/5000 [==============================] - 21s 4ms/step - loss: 0.0426\n",
            "Epoch 2/100\n",
            "5000/5000 [==============================] - 20s 4ms/step - loss: 0.0254\n",
            "Epoch 3/100\n",
            "5000/5000 [==============================] - 20s 4ms/step - loss: 0.0208\n",
            "Epoch 4/100\n",
            "5000/5000 [==============================] - 21s 4ms/step - loss: 0.0175\n",
            "Epoch 5/100\n",
            "5000/5000 [==============================] - 20s 4ms/step - loss: 0.0153\n",
            "Epoch 6/100\n",
            "5000/5000 [==============================] - 20s 4ms/step - loss: 0.0141\n",
            "Epoch 7/100\n",
            "5000/5000 [==============================] - 21s 4ms/step - loss: 0.0127\n",
            "Epoch 8/100\n",
            "5000/5000 [==============================] - 20s 4ms/step - loss: 0.0123\n",
            "Epoch 9/100\n",
            "5000/5000 [==============================] - 20s 4ms/step - loss: 0.0114\n",
            "Epoch 10/100\n",
            "5000/5000 [==============================] - 20s 4ms/step - loss: 0.0110\n",
            "Epoch 11/100\n",
            "5000/5000 [==============================] - 20s 4ms/step - loss: 0.0102\n",
            "Epoch 12/100\n",
            "5000/5000 [==============================] - 20s 4ms/step - loss: 0.0098\n",
            "Epoch 13/100\n",
            "5000/5000 [==============================] - 20s 4ms/step - loss: 0.0096\n",
            "Epoch 14/100\n",
            "5000/5000 [==============================] - 20s 4ms/step - loss: 0.0090\n",
            "Epoch 15/100\n",
            "5000/5000 [==============================] - 20s 4ms/step - loss: 0.0089\n",
            "Epoch 16/100\n",
            "5000/5000 [==============================] - 20s 4ms/step - loss: 0.0086\n",
            "Epoch 17/100\n",
            "5000/5000 [==============================] - 20s 4ms/step - loss: 0.0084\n",
            "Epoch 18/100\n",
            "5000/5000 [==============================] - 20s 4ms/step - loss: 0.0083\n",
            "Epoch 19/100\n",
            "5000/5000 [==============================] - 20s 4ms/step - loss: 0.0078\n",
            "Epoch 20/100\n",
            "5000/5000 [==============================] - 20s 4ms/step - loss: 0.0076\n",
            "Epoch 21/100\n",
            "5000/5000 [==============================] - 20s 4ms/step - loss: 0.0075\n",
            "Epoch 22/100\n",
            "5000/5000 [==============================] - 20s 4ms/step - loss: 0.0074\n",
            "Epoch 23/100\n",
            "5000/5000 [==============================] - 20s 4ms/step - loss: 0.0072\n",
            "Epoch 24/100\n",
            "5000/5000 [==============================] - 20s 4ms/step - loss: 0.0072\n",
            "Epoch 25/100\n",
            "5000/5000 [==============================] - 20s 4ms/step - loss: 0.0068\n",
            "Epoch 26/100\n",
            "5000/5000 [==============================] - 20s 4ms/step - loss: 0.0068\n",
            "Epoch 27/100\n",
            "5000/5000 [==============================] - 20s 4ms/step - loss: 0.0066\n",
            "Epoch 28/100\n",
            "5000/5000 [==============================] - 20s 4ms/step - loss: 0.0066\n",
            "Epoch 29/100\n",
            "5000/5000 [==============================] - 20s 4ms/step - loss: 0.0063\n",
            "Epoch 30/100\n",
            "5000/5000 [==============================] - 20s 4ms/step - loss: 0.0065\n",
            "Epoch 31/100\n",
            "5000/5000 [==============================] - 20s 4ms/step - loss: 0.0063\n",
            "Epoch 32/100\n",
            "5000/5000 [==============================] - 20s 4ms/step - loss: 0.0061\n",
            "Epoch 33/100\n",
            "5000/5000 [==============================] - 20s 4ms/step - loss: 0.0062\n",
            "Epoch 34/100\n",
            "5000/5000 [==============================] - 20s 4ms/step - loss: 0.0060\n",
            "Epoch 35/100\n",
            "5000/5000 [==============================] - 20s 4ms/step - loss: 0.0060\n",
            "Epoch 36/100\n",
            "5000/5000 [==============================] - 20s 4ms/step - loss: 0.0060\n",
            "Epoch 37/100\n",
            "5000/5000 [==============================] - 20s 4ms/step - loss: 0.0058\n",
            "Epoch 38/100\n",
            "5000/5000 [==============================] - 20s 4ms/step - loss: 0.0059\n",
            "Epoch 39/100\n",
            "5000/5000 [==============================] - 20s 4ms/step - loss: 0.0056\n",
            "Epoch 40/100\n",
            "5000/5000 [==============================] - 20s 4ms/step - loss: 0.0056\n",
            "Epoch 41/100\n",
            "5000/5000 [==============================] - 20s 4ms/step - loss: 0.0055\n",
            "Epoch 42/100\n",
            "5000/5000 [==============================] - 20s 4ms/step - loss: 0.0055\n",
            "Epoch 43/100\n",
            "5000/5000 [==============================] - 20s 4ms/step - loss: 0.0056\n",
            "Epoch 44/100\n",
            "5000/5000 [==============================] - 20s 4ms/step - loss: 0.0054\n",
            "Epoch 45/100\n",
            "5000/5000 [==============================] - 20s 4ms/step - loss: 0.0054\n",
            "Epoch 46/100\n",
            "5000/5000 [==============================] - 20s 4ms/step - loss: 0.0054\n",
            "Epoch 47/100\n",
            "5000/5000 [==============================] - 20s 4ms/step - loss: 0.0053\n",
            "Epoch 48/100\n",
            "5000/5000 [==============================] - 20s 4ms/step - loss: 0.0054\n",
            "Epoch 49/100\n",
            "5000/5000 [==============================] - 20s 4ms/step - loss: 0.0052\n",
            "Epoch 50/100\n",
            "5000/5000 [==============================] - 20s 4ms/step - loss: 0.0053\n",
            "Epoch 51/100\n",
            "5000/5000 [==============================] - 20s 4ms/step - loss: 0.0052\n",
            "Epoch 52/100\n",
            "5000/5000 [==============================] - 20s 4ms/step - loss: 0.0052\n",
            "Epoch 53/100\n",
            "5000/5000 [==============================] - 20s 4ms/step - loss: 0.0052\n",
            "Epoch 54/100\n",
            "5000/5000 [==============================] - 20s 4ms/step - loss: 0.0052\n",
            "Epoch 55/100\n",
            "5000/5000 [==============================] - 20s 4ms/step - loss: 0.0051\n",
            "Epoch 56/100\n",
            "5000/5000 [==============================] - 20s 4ms/step - loss: 0.0050\n",
            "Epoch 57/100\n",
            "5000/5000 [==============================] - 20s 4ms/step - loss: 0.0050\n",
            "Epoch 58/100\n",
            "5000/5000 [==============================] - 20s 4ms/step - loss: 0.0050\n",
            "Epoch 59/100\n",
            "5000/5000 [==============================] - 20s 4ms/step - loss: 0.0051\n",
            "Epoch 60/100\n",
            "5000/5000 [==============================] - 20s 4ms/step - loss: 0.0050\n",
            "Epoch 61/100\n",
            "5000/5000 [==============================] - 20s 4ms/step - loss: 0.0049\n",
            "Epoch 62/100\n",
            "5000/5000 [==============================] - 20s 4ms/step - loss: 0.0049\n",
            "Epoch 63/100\n",
            "5000/5000 [==============================] - 20s 4ms/step - loss: 0.0049\n",
            "Epoch 64/100\n",
            "5000/5000 [==============================] - 20s 4ms/step - loss: 0.0050\n",
            "Epoch 65/100\n",
            "5000/5000 [==============================] - 20s 4ms/step - loss: 0.0048\n",
            "Epoch 66/100\n",
            "5000/5000 [==============================] - 20s 4ms/step - loss: 0.0049\n",
            "Epoch 67/100\n",
            "5000/5000 [==============================] - 20s 4ms/step - loss: 0.0047\n",
            "Epoch 68/100\n",
            "5000/5000 [==============================] - 20s 4ms/step - loss: 0.0048\n",
            "Epoch 69/100\n",
            "5000/5000 [==============================] - 20s 4ms/step - loss: 0.0048\n",
            "Epoch 70/100\n",
            "5000/5000 [==============================] - 20s 4ms/step - loss: 0.0049\n",
            "Epoch 71/100\n",
            "5000/5000 [==============================] - 20s 4ms/step - loss: 0.0049\n",
            "Epoch 72/100\n",
            "5000/5000 [==============================] - 20s 4ms/step - loss: 0.0047\n",
            "Epoch 73/100\n",
            "5000/5000 [==============================] - 20s 4ms/step - loss: 0.0047\n",
            "Epoch 74/100\n",
            "5000/5000 [==============================] - 20s 4ms/step - loss: 0.0047\n",
            "Epoch 75/100\n",
            "5000/5000 [==============================] - 20s 4ms/step - loss: 0.0047\n",
            "Epoch 76/100\n",
            "5000/5000 [==============================] - 20s 4ms/step - loss: 0.0047\n",
            "Epoch 77/100\n",
            "5000/5000 [==============================] - 20s 4ms/step - loss: 0.0047\n",
            "Epoch 78/100\n",
            "5000/5000 [==============================] - 20s 4ms/step - loss: 0.0047\n",
            "Epoch 79/100\n",
            "5000/5000 [==============================] - 20s 4ms/step - loss: 0.0047\n",
            "Epoch 80/100\n",
            "5000/5000 [==============================] - 20s 4ms/step - loss: 0.0046\n",
            "Epoch 81/100\n",
            "5000/5000 [==============================] - 20s 4ms/step - loss: 0.0045\n",
            "Epoch 82/100\n",
            "5000/5000 [==============================] - 19s 4ms/step - loss: 0.0046\n",
            "Epoch 83/100\n",
            "5000/5000 [==============================] - 19s 4ms/step - loss: 0.0046\n",
            "Epoch 84/100\n",
            "5000/5000 [==============================] - 19s 4ms/step - loss: 0.0045\n",
            "Epoch 85/100\n",
            "5000/5000 [==============================] - 20s 4ms/step - loss: 0.0046\n",
            "Epoch 86/100\n",
            "5000/5000 [==============================] - 21s 4ms/step - loss: 0.0047\n",
            "Epoch 87/100\n",
            "5000/5000 [==============================] - 20s 4ms/step - loss: 0.0046\n",
            "Epoch 88/100\n",
            "5000/5000 [==============================] - 20s 4ms/step - loss: 0.0045\n",
            "Epoch 89/100\n",
            "5000/5000 [==============================] - 20s 4ms/step - loss: 0.0045\n",
            "Epoch 90/100\n",
            "5000/5000 [==============================] - 20s 4ms/step - loss: 0.0045\n",
            "Epoch 91/100\n",
            "5000/5000 [==============================] - 20s 4ms/step - loss: 0.0045\n",
            "Epoch 92/100\n",
            "5000/5000 [==============================] - 20s 4ms/step - loss: 0.0044\n",
            "Epoch 93/100\n",
            "5000/5000 [==============================] - 20s 4ms/step - loss: 0.0045\n",
            "Epoch 94/100\n",
            "5000/5000 [==============================] - 20s 4ms/step - loss: 0.0044\n",
            "Epoch 95/100\n",
            "5000/5000 [==============================] - 20s 4ms/step - loss: 0.0044\n",
            "Epoch 96/100\n",
            "5000/5000 [==============================] - 20s 4ms/step - loss: 0.0044\n",
            "Epoch 97/100\n",
            "5000/5000 [==============================] - 20s 4ms/step - loss: 0.0044\n",
            "Epoch 98/100\n",
            "5000/5000 [==============================] - 20s 4ms/step - loss: 0.0044\n",
            "Epoch 99/100\n",
            "5000/5000 [==============================] - 20s 4ms/step - loss: 0.0044\n",
            "Epoch 100/100\n",
            "5000/5000 [==============================] - 20s 4ms/step - loss: 0.0045\n"
          ],
          "name": "stdout"
        },
        {
          "output_type": "execute_result",
          "data": {
            "text/plain": [
              "<keras.callbacks.History at 0x7f50e0aa79e8>"
            ]
          },
          "metadata": {
            "tags": []
          },
          "execution_count": 24
        }
      ]
    },
    {
      "metadata": {
        "id": "_Dwa_lJH4b0W",
        "colab_type": "text"
      },
      "cell_type": "markdown",
      "source": [
        "### evaluate the trained CNN on a test set"
      ]
    },
    {
      "metadata": {
        "id": "ujM8so6z6n_e",
        "colab_type": "code",
        "outputId": "e5a60acd-1a3b-4602-b248-0c5b18997dbf",
        "colab": {
          "base_uri": "https://localhost:8080/",
          "height": 85
        }
      },
      "cell_type": "code",
      "source": [
        "[X_test, Y_test] = generate_test_set_regression()"
      ],
      "execution_count": 0,
      "outputs": [
        {
          "output_type": "stream",
          "text": [
            "Creating data:\n",
            "0\n",
            "100\n",
            "200\n"
          ],
          "name": "stdout"
        }
      ]
    },
    {
      "metadata": {
        "id": "SCSuE0jJ6n_j",
        "colab_type": "code",
        "colab": {}
      },
      "cell_type": "code",
      "source": [
        "Y_predict = model.predict(X_test.reshape(X_test.shape[0], 72, 72, 1))"
      ],
      "execution_count": 0,
      "outputs": []
    },
    {
      "metadata": {
        "id": "35axZfGq6n_l",
        "colab_type": "code",
        "outputId": "31ce0fa2-f909-4fce-8296-b277e1dd50ce",
        "colab": {
          "base_uri": "https://localhost:8080/",
          "height": 324
        }
      },
      "cell_type": "code",
      "source": [
        "### visualize a test sample\n",
        "visualize_prediction(X_test[5], Y_predict[5])"
      ],
      "execution_count": 0,
      "outputs": [
        {
          "output_type": "display_data",
          "data": {
            "image/png": "[encoded data removed]",
            "text/plain": [
              "<matplotlib.figure.Figure at 0x7f51301cff60>"
            ]
          },
          "metadata": {
            "tags": []
          }
        }
      ]
    },
    {
      "metadata": {
        "id": "lannipAj-AuF",
        "colab_type": "text"
      },
      "cell_type": "markdown",
      "source": [
        "We see that our CNN can correctly predict the vertices of the test sample."
      ]
    },
    {
      "metadata": {
        "id": "f7IF_Q7Y6n_q",
        "colab_type": "text"
      },
      "cell_type": "markdown",
      "source": [
        "<a id='task5'></a>\n",
        "## 5 Image Denoising"
      ]
    },
    {
      "metadata": {
        "id": "XnDwK1uG-ZTb",
        "colab_type": "text"
      },
      "cell_type": "markdown",
      "source": [
        "### modify the generate_a_* functions to generate pairs of images"
      ]
    },
    {
      "metadata": {
        "id": "TwEW5-sS6n_r",
        "colab_type": "code",
        "colab": {}
      },
      "cell_type": "code",
      "source": [
        "import matplotlib.pyplot as plt\n",
        "%matplotlib inline\n",
        "import numpy as np\n",
        "\n",
        "IMAGE_SIZE = 72\n",
        "\n",
        "def generate_a_drawing(figsize, U, V, noise=0.0):\n",
        "    fig = plt.figure(figsize=(figsize,figsize))\n",
        "    ax = plt.subplot(111)\n",
        "    plt.axis('Off')\n",
        "    ax.set_xlim(0,figsize)\n",
        "    ax.set_ylim(0,figsize)\n",
        "    ax.fill(U, V, \"k\")\n",
        "    fig.canvas.draw()\n",
        "    imdata1 = np.frombuffer(fig.canvas.tostring_rgb(), dtype=np.uint8)[::3].astype(np.float32)\n",
        "    imdata2 = imdata1 + noise * np.random.random(imdata1.size)\n",
        "    plt.close(fig)\n",
        "    return imdata1, imdata2\n",
        "\n",
        "def generate_a_rectangle(noise=0.0, free_location=False):\n",
        "    figsize = 1.0    \n",
        "    U = np.zeros(4)\n",
        "    V = np.zeros(4)\n",
        "    if free_location:\n",
        "        corners = np.random.random(4)\n",
        "        top = max(corners[0], corners[1])\n",
        "        bottom = min(corners[0], corners[1])\n",
        "        left = min(corners[2], corners[3])\n",
        "        right = max(corners[2], corners[3])\n",
        "    else:\n",
        "        side = (0.3 + 0.7 * np.random.random()) * figsize\n",
        "        top = figsize/2 + side/2\n",
        "        bottom = figsize/2 - side/2\n",
        "        left = bottom\n",
        "        right = top\n",
        "    U[0] = U[1] = top\n",
        "    U[2] = U[3] = bottom\n",
        "    V[0] = V[3] = left\n",
        "    V[1] = V[2] = right\n",
        "    return generate_a_drawing(figsize, U, V, noise)\n",
        "\n",
        "\n",
        "def generate_a_disk(noise=0.0, free_location=False):\n",
        "    figsize = 1.0\n",
        "    if free_location:\n",
        "        center = np.random.random(2)\n",
        "    else:\n",
        "        center = (figsize/2, figsize/2)\n",
        "    radius = (0.3 + 0.7 * np.random.random()) * figsize/2\n",
        "    N = 50\n",
        "    U = np.zeros(N)\n",
        "    V = np.zeros(N)\n",
        "    i = 0\n",
        "    for t in np.linspace(0, 2*np.pi, N):\n",
        "        U[i] = center[0] + np.cos(t) * radius\n",
        "        V[i] = center[1] + np.sin(t) * radius\n",
        "        i = i + 1\n",
        "    return generate_a_drawing(figsize, U, V, noise)\n",
        "\n",
        "def generate_a_triangle(noise=0.0, free_location=False):\n",
        "    figsize = 1.0\n",
        "    if free_location:\n",
        "        U = np.random.random(3)\n",
        "        V = np.random.random(3)\n",
        "        args = np.argsort(U)\n",
        "        U = U[args]\n",
        "        V = V[args]\n",
        "    else:\n",
        "        size = (0.3 + 0.7 * np.random.random())*figsize/2\n",
        "        middle = figsize/2\n",
        "        U = (middle, middle+size, middle-size)\n",
        "        V = (middle+size, middle-size, middle-size)\n",
        "    return generate_a_drawing(figsize, U, V, noise)\n",
        "\n",
        "def generate_dataset(nb_samples, noise=0.0, free_location=False):\n",
        "    # Getting im_size:\n",
        "    im_size = generate_a_rectangle()[0].shape[0]\n",
        "    X = np.zeros([nb_samples,im_size])\n",
        "    Y = np.zeros([nb_samples,im_size])\n",
        "    print('Creating data:')\n",
        "    for i in range(nb_samples):\n",
        "        if i % 100 == 0:\n",
        "            print(i)\n",
        "        category = np.random.randint(3)\n",
        "        if category == 0:\n",
        "            X[i], Y[i] = generate_a_rectangle(noise, free_location)\n",
        "        elif category == 1: \n",
        "            X[i], Y[i] = generate_a_disk(noise, free_location)\n",
        "        else:\n",
        "            X[i], Y[i] = generate_a_triangle(noise, free_location)\n",
        "    X = X / 255\n",
        "    Y = (Y + noise) / (255 + 2 * noise)\n",
        "    return X, Y"
      ],
      "execution_count": 0,
      "outputs": []
    },
    {
      "metadata": {
        "id": "grDzmrdJ6n_s",
        "colab_type": "code",
        "outputId": "70ffc40c-7e48-46d6-d841-b7efd73ed03a",
        "colab": {
          "base_uri": "https://localhost:8080/",
          "height": 884
        }
      },
      "cell_type": "code",
      "source": [
        "# Y_train contains the original images, X_train contains the images with random noise\n",
        "Y_train, X_train = generate_dataset(5000, 30, True)"
      ],
      "execution_count": 0,
      "outputs": [
        {
          "output_type": "stream",
          "text": [
            "Creating data:\n",
            "0\n",
            "100\n",
            "200\n",
            "300\n",
            "400\n",
            "500\n",
            "600\n",
            "700\n",
            "800\n",
            "900\n",
            "1000\n",
            "1100\n",
            "1200\n",
            "1300\n",
            "1400\n",
            "1500\n",
            "1600\n",
            "1700\n",
            "1800\n",
            "1900\n",
            "2000\n",
            "2100\n",
            "2200\n",
            "2300\n",
            "2400\n",
            "2500\n",
            "2600\n",
            "2700\n",
            "2800\n",
            "2900\n",
            "3000\n",
            "3100\n",
            "3200\n",
            "3300\n",
            "3400\n",
            "3500\n",
            "3600\n",
            "3700\n",
            "3800\n",
            "3900\n",
            "4000\n",
            "4100\n",
            "4200\n",
            "4300\n",
            "4400\n",
            "4500\n",
            "4600\n",
            "4700\n",
            "4800\n",
            "4900\n"
          ],
          "name": "stdout"
        }
      ]
    },
    {
      "metadata": {
        "id": "C9qEw7CZfpWZ",
        "colab_type": "code",
        "outputId": "e14ac740-d424-4eea-eb27-b72100c3c7fe",
        "colab": {
          "base_uri": "https://localhost:8080/",
          "height": 352
        }
      },
      "cell_type": "code",
      "source": [
        "fig = plt.figure(figsize=(12, 5))\n",
        "# show a sample image with random noise\n",
        "ax1 = fig.add_subplot(1, 2, 1)\n",
        "plt.imshow(Y_train[0].reshape(72, 72))\n",
        "plt.title('original image')\n",
        "ax2 = fig.add_subplot(1, 2, 2)\n",
        "plt.imshow(X_train[0].reshape(72, 72))\n",
        "plt.title('image with noise')"
      ],
      "execution_count": 0,
      "outputs": [
        {
          "output_type": "execute_result",
          "data": {
            "text/plain": [
              "Text(0.5,1,'image with noise')"
            ]
          },
          "metadata": {
            "tags": []
          },
          "execution_count": 37
        },
        {
          "output_type": "display_data",
          "data": {
            "image/png": "[encoded data removed]",
            "text/plain": [
              "<matplotlib.figure.Figure at 0x7f50e056cba8>"
            ]
          },
          "metadata": {
            "tags": []
          }
        }
      ]
    },
    {
      "metadata": {
        "id": "N7OTaG9_mxIS",
        "colab_type": "code",
        "colab": {}
      },
      "cell_type": "code",
      "source": [
        "def make_convolutional_autoencoder():\n",
        "    # encoding\n",
        "    inputs = Input(shape=(72, 72, 1))\n",
        "    x = Conv2D(16, 3, activation='relu', padding='same')(inputs)\n",
        "    x = MaxPooling2D(padding='same')(x)\n",
        "    x = Conv2D( 8, 3, activation='relu', padding='same')(x)\n",
        "    x = MaxPooling2D(padding='same')(x)\n",
        "    x = Conv2D( 8, 3, activation='relu', padding='same')(x)\n",
        "    encoded = MaxPooling2D(padding='same')(x)    \n",
        "    \n",
        "    # decoding\n",
        "    x = Conv2D( 8, 3, activation='relu', padding='same')(encoded)\n",
        "    x = UpSampling2D()(x)\n",
        "    x = Conv2D( 8, 3, activation='relu', padding='same')(x)\n",
        "    x = UpSampling2D()(x)\n",
        "    x = Conv2D(16, 3, activation='relu', padding='same')(x) # <= padding='valid'!\n",
        "    x = UpSampling2D()(x)\n",
        "    decoded = Conv2D(1, 3, activation='sigmoid', padding='same')(x)\n",
        "    \n",
        "    # autoencoder\n",
        "    autoencoder = Model(inputs, decoded)\n",
        "    autoencoder.compile(optimizer='adam', \n",
        "                        loss='binary_crossentropy')\n",
        "    return autoencoder\n",
        "# create a convolutional autoencoder\n",
        "autoencoder = make_convolutional_autoencoder()"
      ],
      "execution_count": 0,
      "outputs": []
    },
    {
      "metadata": {
        "id": "BKfNXUKsxtFm",
        "colab_type": "code",
        "outputId": "b7ab65ff-1d07-402d-d3d4-f15c3b537a0a",
        "colab": {
          "base_uri": "https://localhost:8080/",
          "height": 612
        }
      },
      "cell_type": "code",
      "source": [
        "# summary of the network architecture\n",
        "autoencoder.summary()"
      ],
      "execution_count": 0,
      "outputs": [
        {
          "output_type": "stream",
          "text": [
            "_________________________________________________________________\n",
            "Layer (type)                 Output Shape              Param #   \n",
            "=================================================================\n",
            "input_1 (InputLayer)         (None, 72, 72, 1)         0         \n",
            "_________________________________________________________________\n",
            "conv2d_1 (Conv2D)            (None, 72, 72, 16)        160       \n",
            "_________________________________________________________________\n",
            "max_pooling2d_1 (MaxPooling2 (None, 36, 36, 16)        0         \n",
            "_________________________________________________________________\n",
            "conv2d_2 (Conv2D)            (None, 36, 36, 8)         1160      \n",
            "_________________________________________________________________\n",
            "max_pooling2d_2 (MaxPooling2 (None, 18, 18, 8)         0         \n",
            "_________________________________________________________________\n",
            "conv2d_3 (Conv2D)            (None, 18, 18, 8)         584       \n",
            "_________________________________________________________________\n",
            "max_pooling2d_3 (MaxPooling2 (None, 9, 9, 8)           0         \n",
            "_________________________________________________________________\n",
            "conv2d_4 (Conv2D)            (None, 9, 9, 8)           584       \n",
            "_________________________________________________________________\n",
            "up_sampling2d_1 (UpSampling2 (None, 18, 18, 8)         0         \n",
            "_________________________________________________________________\n",
            "conv2d_5 (Conv2D)            (None, 18, 18, 8)         584       \n",
            "_________________________________________________________________\n",
            "up_sampling2d_2 (UpSampling2 (None, 36, 36, 8)         0         \n",
            "_________________________________________________________________\n",
            "conv2d_6 (Conv2D)            (None, 36, 36, 16)        1168      \n",
            "_________________________________________________________________\n",
            "up_sampling2d_3 (UpSampling2 (None, 72, 72, 16)        0         \n",
            "_________________________________________________________________\n",
            "conv2d_7 (Conv2D)            (None, 72, 72, 1)         145       \n",
            "=================================================================\n",
            "Total params: 4,385\n",
            "Trainable params: 4,385\n",
            "Non-trainable params: 0\n",
            "_________________________________________________________________\n"
          ],
          "name": "stdout"
        }
      ]
    },
    {
      "metadata": {
        "id": "_8tJKeePubdk",
        "colab_type": "code",
        "outputId": "db9c86d9-7e9e-4d1b-8f13-37c94ccb69d9",
        "colab": {
          "base_uri": "https://localhost:8080/",
          "height": 1734
        }
      },
      "cell_type": "code",
      "source": [
        "# train the autoencoder\n",
        "autoencoder.fit(X_train.reshape(X_train.shape[0], 72, 72, 1), Y_train.reshape(Y_train.shape[0], 72, 72, 1), epochs=50, batch_size=64)"
      ],
      "execution_count": 0,
      "outputs": [
        {
          "output_type": "stream",
          "text": [
            "Epoch 1/50\n",
            "5000/5000 [==============================] - 43s 9ms/step - loss: 0.3242\n",
            "Epoch 2/50\n",
            "5000/5000 [==============================] - 44s 9ms/step - loss: 0.0701\n",
            "Epoch 3/50\n",
            "5000/5000 [==============================] - 43s 9ms/step - loss: 0.0266\n",
            "Epoch 4/50\n",
            "5000/5000 [==============================] - 43s 9ms/step - loss: 0.0209\n",
            "Epoch 5/50\n",
            "5000/5000 [==============================] - 44s 9ms/step - loss: 0.0184\n",
            "Epoch 6/50\n",
            "5000/5000 [==============================] - 43s 9ms/step - loss: 0.0169\n",
            "Epoch 7/50\n",
            "5000/5000 [==============================] - 44s 9ms/step - loss: 0.0154\n",
            "Epoch 8/50\n",
            "5000/5000 [==============================] - 43s 9ms/step - loss: 0.0144\n",
            "Epoch 9/50\n",
            "5000/5000 [==============================] - 43s 9ms/step - loss: 0.0134\n",
            "Epoch 10/50\n",
            "5000/5000 [==============================] - 43s 9ms/step - loss: 0.0126\n",
            "Epoch 11/50\n",
            "5000/5000 [==============================] - 43s 9ms/step - loss: 0.0121\n",
            "Epoch 12/50\n",
            "5000/5000 [==============================] - 43s 9ms/step - loss: 0.0116\n",
            "Epoch 13/50\n",
            "5000/5000 [==============================] - 43s 9ms/step - loss: 0.0112\n",
            "Epoch 14/50\n",
            "5000/5000 [==============================] - 44s 9ms/step - loss: 0.0107\n",
            "Epoch 15/50\n",
            "5000/5000 [==============================] - 43s 9ms/step - loss: 0.0102\n",
            "Epoch 16/50\n",
            "5000/5000 [==============================] - 43s 9ms/step - loss: 0.0100\n",
            "Epoch 17/50\n",
            "5000/5000 [==============================] - 43s 9ms/step - loss: 0.0096\n",
            "Epoch 18/50\n",
            "5000/5000 [==============================] - 43s 9ms/step - loss: 0.0094\n",
            "Epoch 19/50\n",
            "5000/5000 [==============================] - 43s 9ms/step - loss: 0.0091\n",
            "Epoch 20/50\n",
            "5000/5000 [==============================] - 43s 9ms/step - loss: 0.0090\n",
            "Epoch 21/50\n",
            "5000/5000 [==============================] - 43s 9ms/step - loss: 0.0089\n",
            "Epoch 22/50\n",
            "5000/5000 [==============================] - 43s 9ms/step - loss: 0.0088\n",
            "Epoch 23/50\n",
            "5000/5000 [==============================] - 43s 9ms/step - loss: 0.0085\n",
            "Epoch 24/50\n",
            "5000/5000 [==============================] - 43s 9ms/step - loss: 0.0082\n",
            "Epoch 25/50\n",
            "5000/5000 [==============================] - 43s 9ms/step - loss: 0.0081\n",
            "Epoch 26/50\n",
            "5000/5000 [==============================] - 43s 9ms/step - loss: 0.0078\n",
            "Epoch 27/50\n",
            "5000/5000 [==============================] - 43s 9ms/step - loss: 0.0078\n",
            "Epoch 28/50\n",
            "5000/5000 [==============================] - 44s 9ms/step - loss: 0.0076\n",
            "Epoch 29/50\n",
            "5000/5000 [==============================] - 44s 9ms/step - loss: 0.0075\n",
            "Epoch 30/50\n",
            "5000/5000 [==============================] - 44s 9ms/step - loss: 0.0074\n",
            "Epoch 31/50\n",
            "5000/5000 [==============================] - 44s 9ms/step - loss: 0.0074\n",
            "Epoch 32/50\n",
            "5000/5000 [==============================] - 44s 9ms/step - loss: 0.0074\n",
            "Epoch 33/50\n",
            "5000/5000 [==============================] - 44s 9ms/step - loss: 0.0071\n",
            "Epoch 34/50\n",
            "5000/5000 [==============================] - 44s 9ms/step - loss: 0.0069\n",
            "Epoch 35/50\n",
            "5000/5000 [==============================] - 44s 9ms/step - loss: 0.0069\n",
            "Epoch 36/50\n",
            "5000/5000 [==============================] - 44s 9ms/step - loss: 0.0067\n",
            "Epoch 37/50\n",
            "5000/5000 [==============================] - 44s 9ms/step - loss: 0.0067\n",
            "Epoch 38/50\n",
            "5000/5000 [==============================] - 43s 9ms/step - loss: 0.0068\n",
            "Epoch 39/50\n",
            "5000/5000 [==============================] - 44s 9ms/step - loss: 0.0065\n",
            "Epoch 40/50\n",
            "5000/5000 [==============================] - 44s 9ms/step - loss: 0.0065\n",
            "Epoch 41/50\n",
            "5000/5000 [==============================] - 43s 9ms/step - loss: 0.0063\n",
            "Epoch 42/50\n",
            "5000/5000 [==============================] - 44s 9ms/step - loss: 0.0064\n",
            "Epoch 43/50\n",
            "5000/5000 [==============================] - 44s 9ms/step - loss: 0.0064\n",
            "Epoch 44/50\n",
            "5000/5000 [==============================] - 43s 9ms/step - loss: 0.0062\n",
            "Epoch 45/50\n",
            "5000/5000 [==============================] - 44s 9ms/step - loss: 0.0060\n",
            "Epoch 46/50\n",
            "5000/5000 [==============================] - 44s 9ms/step - loss: 0.0060\n",
            "Epoch 47/50\n",
            "5000/5000 [==============================] - 44s 9ms/step - loss: 0.0059\n",
            "Epoch 48/50\n",
            "5000/5000 [==============================] - 43s 9ms/step - loss: 0.0059\n",
            "Epoch 49/50\n",
            "5000/5000 [==============================] - 44s 9ms/step - loss: 0.0058\n",
            "Epoch 50/50\n",
            "5000/5000 [==============================] - 44s 9ms/step - loss: 0.0057\n"
          ],
          "name": "stdout"
        },
        {
          "output_type": "execute_result",
          "data": {
            "text/plain": [
              "<keras.callbacks.History at 0x7f50dfeb0da0>"
            ]
          },
          "metadata": {
            "tags": []
          },
          "execution_count": 40
        }
      ]
    },
    {
      "metadata": {
        "id": "JfXP4tc4_wsB",
        "colab_type": "text"
      },
      "cell_type": "markdown",
      "source": [
        "### check the denoising performance of the trained autoencoder for a test set"
      ]
    },
    {
      "metadata": {
        "id": "EWe5mDJ0w6mW",
        "colab_type": "code",
        "outputId": "4c23890f-470b-42e2-e9ff-ec08b9706d66",
        "colab": {
          "base_uri": "https://localhost:8080/",
          "height": 85
        }
      },
      "cell_type": "code",
      "source": [
        "Y_test, X_test = generate_dataset(300, 30, True)"
      ],
      "execution_count": 0,
      "outputs": [
        {
          "output_type": "stream",
          "text": [
            "Creating data:\n",
            "0\n",
            "100\n",
            "200\n"
          ],
          "name": "stdout"
        }
      ]
    },
    {
      "metadata": {
        "id": "4yEutBOpzVQw",
        "colab_type": "code",
        "colab": {}
      },
      "cell_type": "code",
      "source": [
        "Y_predict = autoencoder.predict(X_test.reshape(X_test.shape[0], 72, 72, 1))"
      ],
      "execution_count": 0,
      "outputs": []
    },
    {
      "metadata": {
        "id": "2CJqHovWAVIs",
        "colab_type": "code",
        "outputId": "82e9384a-92e9-4a39-fdb0-76c1bbb7cabe",
        "colab": {
          "base_uri": "https://localhost:8080/",
          "height": 326
        }
      },
      "cell_type": "code",
      "source": [
        "fig = plt.figure(figsize=(15, 5))\n",
        "ax1 = fig.add_subplot(1, 3, 1)\n",
        "plt.imshow(Y_predict[5].reshape(72, 72))\n",
        "plt.title('denoised output')\n",
        "ax2 = fig.add_subplot(1, 3, 2)\n",
        "plt.imshow(Y_test[5].reshape(72, 72))\n",
        "plt.title('original image')\n",
        "ax3 = fig.add_subplot(1, 3, 3)\n",
        "plt.imshow(X_test[5].reshape(72, 72))\n",
        "plt.title('input with noise')"
      ],
      "execution_count": 0,
      "outputs": [
        {
          "output_type": "execute_result",
          "data": {
            "text/plain": [
              "Text(0.5,1,'input with noise')"
            ]
          },
          "metadata": {
            "tags": []
          },
          "execution_count": 44
        },
        {
          "output_type": "display_data",
          "data": {
            "image/png": "[encoded data removed]",
            "text/plain": [
              "<matplotlib.figure.Figure at 0x7f513019f438>"
            ]
          },
          "metadata": {
            "tags": []
          }
        }
      ]
    },
    {
      "metadata": {
        "id": "fdH2W0iYT5TN",
        "colab_type": "text"
      },
      "cell_type": "markdown",
      "source": [
        "As shown in the figures above, the autoencoder has successfully denoised the input images."
      ]
    },
    {
      "metadata": {
        "id": "AV0M6JsaCRie",
        "colab_type": "code",
        "colab": {}
      },
      "cell_type": "code",
      "source": [
        ""
      ],
      "execution_count": 0,
      "outputs": []
    }
  ]
}